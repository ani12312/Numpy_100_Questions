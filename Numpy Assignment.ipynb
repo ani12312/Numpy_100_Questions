{
 "cells": [
  {
   "cell_type": "markdown",
   "id": "abb0f6ea",
   "metadata": {},
   "source": [
    "### 1. Import the numpy package under the name np (★☆☆)"
   ]
  },
  {
   "cell_type": "code",
   "execution_count": 2,
   "id": "1f78c458",
   "metadata": {},
   "outputs": [],
   "source": [
    "import numpy as np\n"
   ]
  },
  {
   "cell_type": "markdown",
   "id": "68b5915f",
   "metadata": {},
   "source": [
    "### 2. Print the numpy version and the configuration (★☆☆)"
   ]
  },
  {
   "cell_type": "code",
   "execution_count": 6,
   "id": "825f2aea",
   "metadata": {},
   "outputs": [
    {
     "data": {
      "text/plain": [
       "'1.23.2'"
      ]
     },
     "execution_count": 6,
     "metadata": {},
     "output_type": "execute_result"
    }
   ],
   "source": [
    "numpy.__version__"
   ]
  },
  {
   "cell_type": "markdown",
   "id": "d0e5b513",
   "metadata": {},
   "source": [
    "### 3. Create a null vector of size 10 (★☆☆)"
   ]
  },
  {
   "cell_type": "code",
   "execution_count": 10,
   "id": "69729c6d",
   "metadata": {},
   "outputs": [
    {
     "data": {
      "text/plain": [
       "array([0., 0., 0., 0., 0., 0., 0., 0., 0., 0.])"
      ]
     },
     "execution_count": 10,
     "metadata": {},
     "output_type": "execute_result"
    }
   ],
   "source": [
    "x=np.zeros(10)\n",
    "x"
   ]
  },
  {
   "cell_type": "markdown",
   "id": "e82f03d6",
   "metadata": {},
   "source": [
    "### 4. How to find the memory size of any array (★☆☆)"
   ]
  },
  {
   "cell_type": "code",
   "execution_count": 18,
   "id": "76776bdf",
   "metadata": {},
   "outputs": [
    {
     "data": {
      "text/plain": [
       "80"
      ]
     },
     "execution_count": 18,
     "metadata": {},
     "output_type": "execute_result"
    }
   ],
   "source": [
    "memory_size=x.itemsize*x.size\n",
    "memory_size"
   ]
  },
  {
   "cell_type": "markdown",
   "id": "b615a364",
   "metadata": {},
   "source": [
    "### 5. How to get the documentation of the numpy add function from the command line? (★☆☆)"
   ]
  },
  {
   "cell_type": "code",
   "execution_count": 19,
   "id": "b99ace29",
   "metadata": {},
   "outputs": [],
   "source": [
    "numpy.add?"
   ]
  },
  {
   "cell_type": "markdown",
   "id": "816385f0",
   "metadata": {},
   "source": [
    "### 6. Create a null vector of size 10 but the fifth value which is 1 (★☆☆)"
   ]
  },
  {
   "cell_type": "code",
   "execution_count": 21,
   "id": "1b69682b",
   "metadata": {},
   "outputs": [
    {
     "data": {
      "text/plain": [
       "array([0., 0., 0., 0., 1., 0., 0., 0., 0., 0.])"
      ]
     },
     "execution_count": 21,
     "metadata": {},
     "output_type": "execute_result"
    }
   ],
   "source": [
    "x=np.zeros(10)\n",
    "x[4]=1\n",
    "x"
   ]
  },
  {
   "cell_type": "markdown",
   "id": "1bf7c0ef",
   "metadata": {},
   "source": [
    "### 7. Create a vector with values ranging from 10 to 49 (★☆☆)"
   ]
  },
  {
   "cell_type": "code",
   "execution_count": 23,
   "id": "2e45032a",
   "metadata": {},
   "outputs": [
    {
     "data": {
      "text/plain": [
       "array([[11, 44, 11, 21, 19, 39, 21, 20, 24, 28]])"
      ]
     },
     "execution_count": 23,
     "metadata": {},
     "output_type": "execute_result"
    }
   ],
   "source": [
    "x=np.random.randint(10,49,(1,10))\n",
    "x"
   ]
  },
  {
   "cell_type": "markdown",
   "id": "9b0aefde",
   "metadata": {},
   "source": [
    "### 8. Reverse a vector (first element becomes last) (★☆☆)"
   ]
  },
  {
   "cell_type": "code",
   "execution_count": 64,
   "id": "bdb6e6f2",
   "metadata": {},
   "outputs": [
    {
     "name": "stdout",
     "output_type": "stream",
     "text": [
      "[[36 12 44 23 48 10 35 17 12 32]]\n"
     ]
    }
   ],
   "source": [
    "x=np.random.randint(10,49,(1,10))\n",
    "print(x)\n"
   ]
  },
  {
   "cell_type": "code",
   "execution_count": 65,
   "id": "e9bb9f57",
   "metadata": {},
   "outputs": [
    {
     "data": {
      "text/plain": [
       "array([[32, 12, 17, 35, 10, 48, 23, 44, 12, 36]])"
      ]
     },
     "execution_count": 65,
     "metadata": {},
     "output_type": "execute_result"
    }
   ],
   "source": [
    "np.flip(x,1)"
   ]
  },
  {
   "cell_type": "code",
   "execution_count": 68,
   "id": "cb2ad6b4",
   "metadata": {},
   "outputs": [
    {
     "name": "stdout",
     "output_type": "stream",
     "text": [
      "[[32 12 17 35 10 48 23 44 12 36]]\n"
     ]
    }
   ],
   "source": [
    "print(x[::,::-1])"
   ]
  },
  {
   "cell_type": "markdown",
   "id": "f5b86c39",
   "metadata": {},
   "source": [
    "9. Create a 3x3 matrix with values ranging from 0 to 8 (★☆☆)"
   ]
  },
  {
   "cell_type": "code",
   "execution_count": 29,
   "id": "78049c50",
   "metadata": {},
   "outputs": [
    {
     "data": {
      "text/plain": [
       "array([[3, 1, 6],\n",
       "       [6, 0, 1],\n",
       "       [7, 2, 4]])"
      ]
     },
     "execution_count": 29,
     "metadata": {},
     "output_type": "execute_result"
    }
   ],
   "source": [
    "x=np.random.randint(0,8,(3,3))\n",
    "x"
   ]
  },
  {
   "cell_type": "markdown",
   "id": "cd88a3b4",
   "metadata": {},
   "source": [
    "10. Find indices of non-zero elements from [1,2,0,0,4,0] (★☆☆)"
   ]
  },
  {
   "cell_type": "code",
   "execution_count": 39,
   "id": "2e21f4a4",
   "metadata": {},
   "outputs": [
    {
     "name": "stdout",
     "output_type": "stream",
     "text": [
      "[2 3 5]\n"
     ]
    }
   ],
   "source": [
    "x= [1,2,0,0,4,0]\n",
    "x= np.array(x)\n",
    "result=np.where (x==0)\n",
    "print(result[0],sep='\\n')"
   ]
  },
  {
   "cell_type": "markdown",
   "id": "abc38507",
   "metadata": {},
   "source": [
    "11. Create a 3x3 identity matrix (★☆☆)\n"
   ]
  },
  {
   "cell_type": "code",
   "execution_count": 41,
   "id": "e7bb113d",
   "metadata": {},
   "outputs": [
    {
     "data": {
      "text/plain": [
       "array([[1., 0., 0.],\n",
       "       [0., 1., 0.],\n",
       "       [0., 0., 1.]])"
      ]
     },
     "execution_count": 41,
     "metadata": {},
     "output_type": "execute_result"
    }
   ],
   "source": [
    "x=np.identity(3)\n",
    "x"
   ]
  },
  {
   "cell_type": "markdown",
   "id": "4e58c82b",
   "metadata": {},
   "source": [
    "12. Create a 3x3x3 array with random values (★☆☆)"
   ]
  },
  {
   "cell_type": "code",
   "execution_count": 43,
   "id": "4102efbd",
   "metadata": {},
   "outputs": [
    {
     "data": {
      "text/plain": [
       "array([[[32, 37, 51],\n",
       "        [30,  2, 28],\n",
       "        [28, 19, 89]],\n",
       "\n",
       "       [[49, 40, 94],\n",
       "        [87, 83, 66],\n",
       "        [45, 31, 81]],\n",
       "\n",
       "       [[85, 90, 82],\n",
       "        [18, 96, 95],\n",
       "        [40, 32, 97]]])"
      ]
     },
     "execution_count": 43,
     "metadata": {},
     "output_type": "execute_result"
    }
   ],
   "source": [
    "x=np.random.randint(1,99,(3,3,3))\n",
    "x"
   ]
  },
  {
   "cell_type": "markdown",
   "id": "bde7c42f",
   "metadata": {},
   "source": [
    "13. Create a 10x10 array with random values and find the minimum and maximum values (★☆☆)"
   ]
  },
  {
   "cell_type": "code",
   "execution_count": 48,
   "id": "5b7d0491",
   "metadata": {},
   "outputs": [
    {
     "name": "stdout",
     "output_type": "stream",
     "text": [
      "[[84  3 50 18 47 31 62 97 22 60]\n",
      " [23 30  7 67 96 54 78 42 13  5]\n",
      " [36 33 71  6 74 24 80 67 46  9]\n",
      " [97 97 17 25 37 96 27 86 93 82]\n",
      " [29  3 59 97 16 85 29 65 73  3]\n",
      " [95 10 56 36 35 66 93 14 16 67]\n",
      " [57 94 64 33 73 89 32 44 21 17]\n",
      " [85 49 39 82 59  6 46 94 72 63]\n",
      " [21 59 39 42 56 63 57 38 15 87]\n",
      " [15 15 97 33 26 51 26 96  9 32]]\n"
     ]
    },
    {
     "data": {
      "text/plain": [
       "(3, 97)"
      ]
     },
     "execution_count": 48,
     "metadata": {},
     "output_type": "execute_result"
    }
   ],
   "source": [
    "x=np.random.randint(1,99,(10,10))\n",
    "print(x)\n",
    "min_value=x.min(axis=None)\n",
    "max_value=x.max(axis=None)\n",
    "min_value,max_value"
   ]
  },
  {
   "cell_type": "markdown",
   "id": "94ee99eb",
   "metadata": {},
   "source": [
    "14. Create a random vector of size 30 and find the mean value (★☆☆)"
   ]
  },
  {
   "cell_type": "code",
   "execution_count": 62,
   "id": "12d32cbd",
   "metadata": {},
   "outputs": [
    {
     "name": "stdout",
     "output_type": "stream",
     "text": [
      "[[76 21  1 19 53 51 69 12 40 12 53  2 58 88  8 94  1 60  7 34 25 15 12 40\n",
      "  39 29 48  4 12 78]]\n",
      "mean value is 35.37\n"
     ]
    }
   ],
   "source": [
    "x=np.random.randint(0,99,(1,30))\n",
    "print(x)\n",
    "mean_value=x.mean(axis=None)\n",
    "print(\"mean value is %.2f\" %mean_value)"
   ]
  },
  {
   "cell_type": "markdown",
   "id": "7f2ecfd4",
   "metadata": {},
   "source": [
    "15. Create a 2d array with 1 on the border and 0 inside (★☆☆)"
   ]
  },
  {
   "cell_type": "code",
   "execution_count": 63,
   "id": "0697c1c9",
   "metadata": {},
   "outputs": [
    {
     "name": "stdout",
     "output_type": "stream",
     "text": [
      "Original array:\n",
      "[[1. 1. 1. 1. 1.]\n",
      " [1. 1. 1. 1. 1.]\n",
      " [1. 1. 1. 1. 1.]\n",
      " [1. 1. 1. 1. 1.]\n",
      " [1. 1. 1. 1. 1.]]\n",
      "1 on the border and 0 inside in the array\n",
      "[[1. 1. 1. 1. 1.]\n",
      " [1. 0. 0. 0. 1.]\n",
      " [1. 0. 0. 0. 1.]\n",
      " [1. 0. 0. 0. 1.]\n",
      " [1. 1. 1. 1. 1.]]\n"
     ]
    }
   ],
   "source": [
    "x = np.ones((5,5))\n",
    "print(\"Original array:\")\n",
    "print(x)\n",
    "print(\"1 on the border and 0 inside in the array\")\n",
    "x[1:-1,1:-1] = 0\n",
    "print(x)\n"
   ]
  },
  {
   "cell_type": "markdown",
   "id": "18823850",
   "metadata": {},
   "source": [
    "16. How to add a border (filled with 0's) around an existing array? (★☆☆)"
   ]
  },
  {
   "cell_type": "code",
   "execution_count": 84,
   "id": "b849669b",
   "metadata": {},
   "outputs": [
    {
     "name": "stdout",
     "output_type": "stream",
     "text": [
      "[[1. 1. 1.]\n",
      " [1. 1. 1.]\n",
      " [1. 1. 1.]]\n",
      "after padding : \n",
      " [[0. 0. 0. 0. 0.]\n",
      " [0. 1. 1. 1. 0.]\n",
      " [0. 1. 1. 1. 0.]\n",
      " [0. 1. 1. 1. 0.]\n",
      " [0. 0. 0. 0. 0.]]\n"
     ]
    }
   ],
   "source": [
    "x=np.ones((3,3))\n",
    "print(x)\n",
    "new_x=np.pad(x, pad_width=1,\n",
    "               constant_values=0)\n",
    "print(\"after padding : \\n\",new_x)"
   ]
  },
  {
   "cell_type": "markdown",
   "id": "70ab88a5",
   "metadata": {},
   "source": [
    "17. What is the result of the following expression? (★☆☆)\n",
    "\n",
    "a)0 * np.nan\n",
    "\n",
    "b)np.nan == np.nan\n",
    "\n",
    "c)np.inf > np.nan\n",
    "\n",
    "d)np.nan - np.nan\n",
    "\n",
    "e)np.nan in set([np.nan])\n",
    "\n",
    "f)0.3 == 3 * 0.1"
   ]
  },
  {
   "cell_type": "code",
   "execution_count": 85,
   "id": "793f71fd",
   "metadata": {},
   "outputs": [
    {
     "data": {
      "text/plain": [
       "nan"
      ]
     },
     "execution_count": 85,
     "metadata": {},
     "output_type": "execute_result"
    }
   ],
   "source": [
    "0 * np.nan"
   ]
  },
  {
   "cell_type": "code",
   "execution_count": 86,
   "id": "c19946e8",
   "metadata": {},
   "outputs": [
    {
     "data": {
      "text/plain": [
       "False"
      ]
     },
     "execution_count": 86,
     "metadata": {},
     "output_type": "execute_result"
    }
   ],
   "source": [
    "np.nan == np.nan"
   ]
  },
  {
   "cell_type": "code",
   "execution_count": 87,
   "id": "cb02868b",
   "metadata": {},
   "outputs": [
    {
     "data": {
      "text/plain": [
       "False"
      ]
     },
     "execution_count": 87,
     "metadata": {},
     "output_type": "execute_result"
    }
   ],
   "source": [
    "np.inf > np.nan"
   ]
  },
  {
   "cell_type": "code",
   "execution_count": 88,
   "id": "48dba7d4",
   "metadata": {},
   "outputs": [
    {
     "data": {
      "text/plain": [
       "nan"
      ]
     },
     "execution_count": 88,
     "metadata": {},
     "output_type": "execute_result"
    }
   ],
   "source": [
    "np.nan - np.nan"
   ]
  },
  {
   "cell_type": "code",
   "execution_count": 89,
   "id": "6cf21fd4",
   "metadata": {},
   "outputs": [
    {
     "data": {
      "text/plain": [
       "True"
      ]
     },
     "execution_count": 89,
     "metadata": {},
     "output_type": "execute_result"
    }
   ],
   "source": [
    "np.nan in set([np.nan])"
   ]
  },
  {
   "cell_type": "code",
   "execution_count": 90,
   "id": "2054590a",
   "metadata": {},
   "outputs": [
    {
     "data": {
      "text/plain": [
       "False"
      ]
     },
     "execution_count": 90,
     "metadata": {},
     "output_type": "execute_result"
    }
   ],
   "source": [
    "0.3 == 3 * 0.1"
   ]
  },
  {
   "cell_type": "markdown",
   "id": "f29d08b0",
   "metadata": {},
   "source": [
    "18. Create a 5x5 matrix with values 1,2,3,4 just below the diagonal (★☆☆)"
   ]
  },
  {
   "cell_type": "code",
   "execution_count": 91,
   "id": "35e85b06",
   "metadata": {},
   "outputs": [],
   "source": [
    "np.diag?"
   ]
  },
  {
   "cell_type": "code",
   "execution_count": 95,
   "id": "eb6cfccf",
   "metadata": {},
   "outputs": [
    {
     "data": {
      "text/plain": [
       "array([1, 2, 3, 4])"
      ]
     },
     "execution_count": 95,
     "metadata": {},
     "output_type": "execute_result"
    }
   ],
   "source": [
    "1+np.arange(4)"
   ]
  },
  {
   "cell_type": "code",
   "execution_count": 96,
   "id": "aeff0e9b",
   "metadata": {},
   "outputs": [
    {
     "data": {
      "text/plain": [
       "array([[0, 0, 0, 0, 0],\n",
       "       [1, 0, 0, 0, 0],\n",
       "       [0, 2, 0, 0, 0],\n",
       "       [0, 0, 3, 0, 0],\n",
       "       [0, 0, 0, 4, 0]])"
      ]
     },
     "execution_count": 96,
     "metadata": {},
     "output_type": "execute_result"
    }
   ],
   "source": [
    "x=np.diag(1+np.arange(4),k=-1)\n",
    "x"
   ]
  },
  {
   "cell_type": "markdown",
   "id": "7518b8fc",
   "metadata": {},
   "source": [
    "19. Create a 8x8 matrix and fill it with a checkerboard pattern (★☆☆)"
   ]
  },
  {
   "cell_type": "code",
   "execution_count": 102,
   "id": "46532c43",
   "metadata": {},
   "outputs": [
    {
     "data": {
      "text/plain": [
       "array([[0., 1., 0., 1., 0., 1., 0., 1.],\n",
       "       [1., 0., 1., 0., 1., 0., 1., 0.],\n",
       "       [0., 1., 0., 1., 0., 1., 0., 1.],\n",
       "       [1., 0., 1., 0., 1., 0., 1., 0.],\n",
       "       [0., 1., 0., 1., 0., 1., 0., 1.],\n",
       "       [1., 0., 1., 0., 1., 0., 1., 0.],\n",
       "       [0., 1., 0., 1., 0., 1., 0., 1.],\n",
       "       [1., 0., 1., 0., 1., 0., 1., 0.]])"
      ]
     },
     "execution_count": 102,
     "metadata": {},
     "output_type": "execute_result"
    }
   ],
   "source": [
    "Z = np.zeros ((8,8))\n",
    "Z[1::2, ::2]= 1  #first argument slice the rows and second argument slice the columns\n",
    "Z[::2, 1::2] = 1\n",
    "Z"
   ]
  },
  {
   "cell_type": "code",
   "execution_count": 103,
   "id": "fc1be67e",
   "metadata": {},
   "outputs": [
    {
     "data": {
      "text/plain": [
       "array([[1., 0., 1., 0., 1., 0., 1., 0.],\n",
       "       [1., 0., 1., 0., 1., 0., 1., 0.],\n",
       "       [1., 0., 1., 0., 1., 0., 1., 0.],\n",
       "       [1., 0., 1., 0., 1., 0., 1., 0.]])"
      ]
     },
     "execution_count": 103,
     "metadata": {},
     "output_type": "execute_result"
    }
   ],
   "source": [
    "Z[1::2]"
   ]
  },
  {
   "cell_type": "code",
   "execution_count": 104,
   "id": "3d320f7f",
   "metadata": {},
   "outputs": [
    {
     "data": {
      "text/plain": [
       "array([[0., 1., 0., 1., 0., 1., 0., 1.],\n",
       "       [0., 1., 0., 1., 0., 1., 0., 1.],\n",
       "       [0., 1., 0., 1., 0., 1., 0., 1.],\n",
       "       [0., 1., 0., 1., 0., 1., 0., 1.]])"
      ]
     },
     "execution_count": 104,
     "metadata": {},
     "output_type": "execute_result"
    }
   ],
   "source": [
    "Z[::2]"
   ]
  },
  {
   "cell_type": "code",
   "execution_count": 117,
   "id": "f18037ca",
   "metadata": {},
   "outputs": [
    {
     "data": {
      "text/plain": [
       "(array([[2, 6, 4, 8, 4, 7, 4, 5, 4, 7]]), 2)"
      ]
     },
     "execution_count": 117,
     "metadata": {},
     "output_type": "execute_result"
    }
   ],
   "source": [
    "x=np.random.randint(1,9,(1,10))\n",
    "x,x.ndim #2 dimensional array\n",
    "#referring problem no  8"
   ]
  },
  {
   "cell_type": "code",
   "execution_count": 119,
   "id": "4fa7ab99",
   "metadata": {},
   "outputs": [
    {
     "data": {
      "text/plain": [
       "(array([1, 2, 3, 4]), 1)"
      ]
     },
     "execution_count": 119,
     "metadata": {},
     "output_type": "execute_result"
    }
   ],
   "source": [
    "y=[1,2,3,4]\n",
    "y=np.array(y)#list to numpy array\n",
    "y,y.ndim"
   ]
  },
  {
   "cell_type": "markdown",
   "id": "3695c4ee",
   "metadata": {},
   "source": [
    "## 20. Consider a (6,7,8) shape array, what is the index (x,y,z) of the 100th element? (★☆☆)"
   ]
  },
  {
   "cell_type": "code",
   "execution_count": 126,
   "id": "3a38cc50",
   "metadata": {},
   "outputs": [
    {
     "name": "stdout",
     "output_type": "stream",
     "text": [
      "(1, 5, 4)\n"
     ]
    }
   ],
   "source": [
    "\n",
    "print (np.unravel_index(100, (6,7,8)))"
   ]
  },
  {
   "cell_type": "code",
   "execution_count": 124,
   "id": "ef4fc09d",
   "metadata": {},
   "outputs": [],
   "source": [
    "np.unravel_index?"
   ]
  },
  {
   "cell_type": "markdown",
   "id": "71a718b2",
   "metadata": {},
   "source": [
    "21. Create a checkerboard 8x8 matrix using the tile function"
   ]
  },
  {
   "cell_type": "code",
   "execution_count": 128,
   "id": "fe5a542a",
   "metadata": {},
   "outputs": [
    {
     "name": "stdout",
     "output_type": "stream",
     "text": [
      "[[0 1 0 1 0 1 0 1]\n",
      " [1 0 1 0 1 0 1 0]\n",
      " [0 1 0 1 0 1 0 1]\n",
      " [1 0 1 0 1 0 1 0]\n",
      " [0 1 0 1 0 1 0 1]\n",
      " [1 0 1 0 1 0 1 0]\n",
      " [0 1 0 1 0 1 0 1]\n",
      " [1 0 1 0 1 0 1 0]]\n"
     ]
    }
   ],
   "source": [
    "array= np.array([[0,1], [1,0]])\n",
    "Z = np.tile(array,(4,4))\n",
    "print (Z)"
   ]
  },
  {
   "cell_type": "code",
   "execution_count": 129,
   "id": "6ec5d4a8",
   "metadata": {},
   "outputs": [],
   "source": [
    "np.tile?"
   ]
  },
  {
   "cell_type": "markdown",
   "id": "01433f5f",
   "metadata": {},
   "source": [
    "22. Normalize a 5x5 random matrix (★☆☆)"
   ]
  },
  {
   "cell_type": "code",
   "execution_count": 145,
   "id": "53401aea",
   "metadata": {},
   "outputs": [
    {
     "name": "stdout",
     "output_type": "stream",
     "text": [
      "[[4 2 5 4 4]\n",
      " [7 1 5 3 2]\n",
      " [6 2 2 3 4]\n",
      " [8 7 8 3 8]\n",
      " [5 7 2 4 6]]\n",
      "[[0.16142686 0.08071343 0.20178358 0.16142686 0.16142686]\n",
      " [0.28249701 0.04035672 0.20178358 0.12107015 0.08071343]\n",
      " [0.24214029 0.08071343 0.08071343 0.12107015 0.16142686]\n",
      " [0.32285372 0.28249701 0.32285372 0.12107015 0.32285372]\n",
      " [0.20178358 0.28249701 0.08071343 0.16142686 0.24214029]]\n"
     ]
    }
   ],
   "source": [
    "x=np.random.randint(1,9,(5,5))\n",
    "print(x)\n",
    "normalized=np.linalg.norm(x)\n",
    "print(x/normalized)"
   ]
  },
  {
   "cell_type": "markdown",
   "id": "69ef634c",
   "metadata": {},
   "source": [
    "## 23. Create a custom dtype that describes a color as four unsigned bytes (RGBA) (★☆☆)"
   ]
  },
  {
   "cell_type": "code",
   "execution_count": null,
   "id": "dcf387dc",
   "metadata": {},
   "outputs": [],
   "source": []
  },
  {
   "cell_type": "markdown",
   "id": "0af42caf",
   "metadata": {},
   "source": [
    "24. Multiply a 5x3 matrix by a 3x2 matrix (real matrix product) (★☆☆)"
   ]
  },
  {
   "cell_type": "code",
   "execution_count": 152,
   "id": "22792f3d",
   "metadata": {},
   "outputs": [
    {
     "name": "stdout",
     "output_type": "stream",
     "text": [
      "first array \n",
      " [[1 3 5]\n",
      " [4 5 7]\n",
      " [2 1 6]\n",
      " [7 1 5]\n",
      " [7 1 2]] \n",
      " next array\n",
      "  [[5 6]\n",
      " [6 3]\n",
      " [2 8]]\n"
     ]
    }
   ],
   "source": [
    "x=np.random.randint(1,9,(5,3))\n",
    "y=np.random.randint(1,9,(3,2))\n",
    "print(\"first array \\n\" ,x,\"\\n next array\\n \",y)"
   ]
  },
  {
   "cell_type": "code",
   "execution_count": 153,
   "id": "62936813",
   "metadata": {},
   "outputs": [
    {
     "data": {
      "text/plain": [
       "array([[33, 55],\n",
       "       [64, 95],\n",
       "       [28, 63],\n",
       "       [51, 85],\n",
       "       [45, 61]])"
      ]
     },
     "execution_count": 153,
     "metadata": {},
     "output_type": "execute_result"
    }
   ],
   "source": [
    "\n",
    "res=np.dot(x,y)\n",
    "res"
   ]
  },
  {
   "cell_type": "markdown",
   "id": "a07f3d2c",
   "metadata": {},
   "source": [
    "25. Given a 1D array, negate all elements which are between 3 and 8, in place. (★☆☆)"
   ]
  },
  {
   "cell_type": "code",
   "execution_count": 158,
   "id": "b1d4531e",
   "metadata": {},
   "outputs": [
    {
     "name": "stdout",
     "output_type": "stream",
     "text": [
      "[ 1  2  3  4  5  6  7  8  9 10 11 12 13 14 15]\n"
     ]
    },
    {
     "data": {
      "text/plain": [
       "array([ 1,  2, -3, -4, -5, -6, -7, -8,  9, 10, 11, 12, 13, 14, 15])"
      ]
     },
     "execution_count": 158,
     "metadata": {},
     "output_type": "execute_result"
    }
   ],
   "source": [
    "arr=np.arange(1,16)\n",
    "print(arr)\n",
    "arr[(arr>=3) & (arr<=8)]*=(-1)\n",
    "arr"
   ]
  },
  {
   "cell_type": "markdown",
   "id": "8cd68370",
   "metadata": {},
   "source": [
    "26. What is the output of the following script? (★☆☆)\n",
    "#Author: Jake VanderPlas\n",
    "\n",
    "print(sum(range(5),-1))\n",
    "from numpy import *\n",
    "print(sum(range(5),-1))"
   ]
  },
  {
   "cell_type": "code",
   "execution_count": 1,
   "id": "c795b569",
   "metadata": {},
   "outputs": [
    {
     "name": "stdout",
     "output_type": "stream",
     "text": [
      "9\n",
      "10\n"
     ]
    }
   ],
   "source": [
    "print(sum(range(5),-1)) \n",
    "from numpy import * \n",
    "print(sum(range(5),-1))"
   ]
  },
  {
   "cell_type": "markdown",
   "id": "767bfb30",
   "metadata": {},
   "source": [
    "27. Consider an integer vector Z, which of these expressions are legal? (★☆☆)\n",
    "\n",
    "Z**Z\n",
    "\n",
    "2 << Z >> 2\n",
    "\n",
    "Z <- Z\n",
    "\n",
    "1j*Z\n",
    "\n",
    "Z/1/1\n",
    "\n",
    "Z < Z > Z"
   ]
  },
  {
   "cell_type": "code",
   "execution_count": 6,
   "id": "1296a6c9",
   "metadata": {},
   "outputs": [
    {
     "data": {
      "text/plain": [
       "array([0, 1, 2, 3, 4, 5, 6, 7, 8, 9])"
      ]
     },
     "execution_count": 6,
     "metadata": {},
     "output_type": "execute_result"
    }
   ],
   "source": [
    "z=np.arange(10)\n",
    "z"
   ]
  },
  {
   "cell_type": "code",
   "execution_count": 5,
   "id": "acb88e10",
   "metadata": {},
   "outputs": [
    {
     "data": {
      "text/plain": [
       "array([        1,         1,         4,        27,       256,      3125,\n",
       "           46656,    823543,  16777216, 387420489])"
      ]
     },
     "execution_count": 5,
     "metadata": {},
     "output_type": "execute_result"
    }
   ],
   "source": [
    "z**z"
   ]
  },
  {
   "cell_type": "code",
   "execution_count": 7,
   "id": "fd833ae5",
   "metadata": {},
   "outputs": [
    {
     "data": {
      "text/plain": [
       "array([  0,   1,   2,   4,   8,  16,  32,  64, 128, 256], dtype=int32)"
      ]
     },
     "execution_count": 7,
     "metadata": {},
     "output_type": "execute_result"
    }
   ],
   "source": [
    "2 << z >> 2"
   ]
  },
  {
   "cell_type": "code",
   "execution_count": 8,
   "id": "42887af2",
   "metadata": {},
   "outputs": [
    {
     "data": {
      "text/plain": [
       "array([False, False, False, False, False, False, False, False, False,\n",
       "       False])"
      ]
     },
     "execution_count": 8,
     "metadata": {},
     "output_type": "execute_result"
    }
   ],
   "source": [
    "z<-z"
   ]
  },
  {
   "cell_type": "code",
   "execution_count": 9,
   "id": "4b5d9f82",
   "metadata": {},
   "outputs": [
    {
     "data": {
      "text/plain": [
       "array([0.+0.j, 0.+1.j, 0.+2.j, 0.+3.j, 0.+4.j, 0.+5.j, 0.+6.j, 0.+7.j,\n",
       "       0.+8.j, 0.+9.j])"
      ]
     },
     "execution_count": 9,
     "metadata": {},
     "output_type": "execute_result"
    }
   ],
   "source": [
    "1j*z"
   ]
  },
  {
   "cell_type": "code",
   "execution_count": 10,
   "id": "2699c3d6",
   "metadata": {},
   "outputs": [
    {
     "data": {
      "text/plain": [
       "array([0., 1., 2., 3., 4., 5., 6., 7., 8., 9.])"
      ]
     },
     "execution_count": 10,
     "metadata": {},
     "output_type": "execute_result"
    }
   ],
   "source": [
    "z/1/1"
   ]
  },
  {
   "cell_type": "code",
   "execution_count": 12,
   "id": "7a20cd48",
   "metadata": {},
   "outputs": [
    {
     "ename": "ValueError",
     "evalue": "The truth value of an array with more than one element is ambiguous. Use a.any() or a.all()",
     "output_type": "error",
     "traceback": [
      "\u001b[1;31m---------------------------------------------------------------------------\u001b[0m",
      "\u001b[1;31mValueError\u001b[0m                                Traceback (most recent call last)",
      "Input \u001b[1;32mIn [12]\u001b[0m, in \u001b[0;36m<cell line: 1>\u001b[1;34m()\u001b[0m\n\u001b[1;32m----> 1\u001b[0m z\u001b[38;5;241m<\u001b[39mz\u001b[38;5;241m>\u001b[39mZ\n",
      "\u001b[1;31mValueError\u001b[0m: The truth value of an array with more than one element is ambiguous. Use a.any() or a.all()"
     ]
    }
   ],
   "source": [
    "z<z>Z"
   ]
  },
  {
   "cell_type": "markdown",
   "id": "38b24c73",
   "metadata": {},
   "source": [
    "28. What are the result of the following expressions? (★☆☆)\n",
    "\n",
    "np.array(0) / np.array(0)\n",
    "\n",
    "np.array(0) // np.array(0)\n",
    "\n",
    "np.array([np.nan]).astype(int).astype(float)\n",
    " "
   ]
  },
  {
   "cell_type": "code",
   "execution_count": 13,
   "id": "f03aeaa0",
   "metadata": {},
   "outputs": [
    {
     "name": "stderr",
     "output_type": "stream",
     "text": [
      "C:\\temp\\ipykernel_18028\\873513115.py:1: RuntimeWarning: invalid value encountered in divide\n",
      "  np.array(0) / np.array(0)\n"
     ]
    },
    {
     "data": {
      "text/plain": [
       "nan"
      ]
     },
     "execution_count": 13,
     "metadata": {},
     "output_type": "execute_result"
    }
   ],
   "source": [
    "np.array(0) / np.array(0)"
   ]
  },
  {
   "cell_type": "code",
   "execution_count": 14,
   "id": "f3137aea",
   "metadata": {},
   "outputs": [
    {
     "name": "stderr",
     "output_type": "stream",
     "text": [
      "C:\\temp\\ipykernel_18028\\2018018105.py:1: RuntimeWarning: divide by zero encountered in floor_divide\n",
      "  np.array(0) // np.array(0)\n"
     ]
    },
    {
     "data": {
      "text/plain": [
       "0"
      ]
     },
     "execution_count": 14,
     "metadata": {},
     "output_type": "execute_result"
    }
   ],
   "source": [
    "np.array(0) // np.array(0)"
   ]
  },
  {
   "cell_type": "code",
   "execution_count": 20,
   "id": "5682a9e5",
   "metadata": {},
   "outputs": [
    {
     "data": {
      "text/plain": [
       "array([-2.14748365e+09])"
      ]
     },
     "execution_count": 20,
     "metadata": {},
     "output_type": "execute_result"
    }
   ],
   "source": [
    "np.array([np.nan]).astype(int).astype(float)"
   ]
  },
  {
   "cell_type": "markdown",
   "id": "8e2c53b7",
   "metadata": {},
   "source": [
    "29. How to round away from zero a float array ? (★☆☆)"
   ]
  },
  {
   "cell_type": "code",
   "execution_count": 25,
   "id": "496db9e5",
   "metadata": {},
   "outputs": [
    {
     "name": "stdout",
     "output_type": "stream",
     "text": [
      "[[0.55111125 0.00612868 0.42662941 0.85971985 0.45901557]\n",
      " [0.81689165 0.891704   0.66798851 0.08187432 0.56104179]\n",
      " [0.26225788 0.26282057 0.36832108 0.42141492 0.35812699]\n",
      " [0.76102609 0.86725628 0.06832799 0.28514258 0.92417229]\n",
      " [0.14897997 0.78701641 0.15952168 0.77616886 0.33288808]]\n",
      "[[0.55 0.01 0.43 0.86 0.46]\n",
      " [0.82 0.89 0.67 0.08 0.56]\n",
      " [0.26 0.26 0.37 0.42 0.36]\n",
      " [0.76 0.87 0.07 0.29 0.92]\n",
      " [0.15 0.79 0.16 0.78 0.33]]\n"
     ]
    }
   ],
   "source": [
    "arr = np.random.random((5,5))\n",
    "print(arr)\n",
    "arr = np.round(arr,2)\n",
    "print(arr) "
   ]
  },
  {
   "cell_type": "markdown",
   "id": "0ab60253",
   "metadata": {},
   "source": [
    "30. How to find common values between two arrays? (★☆☆)"
   ]
  },
  {
   "cell_type": "code",
   "execution_count": 30,
   "id": "1c84681e",
   "metadata": {},
   "outputs": [
    {
     "name": "stdout",
     "output_type": "stream",
     "text": [
      "[4 5 6 9]\n"
     ]
    }
   ],
   "source": [
    "arr_1=np.array([4,8,5,6,9,7,5])\n",
    "arr_2=np.array([58,9,5,5,6,4,6])\n",
    "print(np.intersect1d(arr_1, arr_2))"
   ]
  },
  {
   "cell_type": "markdown",
   "id": "7829a23c",
   "metadata": {},
   "source": [
    "31. How to ignore all numpy warnings (not recommended)? (★☆☆)"
   ]
  },
  {
   "cell_type": "code",
   "execution_count": 36,
   "id": "9e861c80",
   "metadata": {},
   "outputs": [],
   "source": [
    "# Suicide mode on\n",
    "defaults = np.seterr(all=\"ignore\")\n",
    "Z = np.ones(1) / 0\n",
    "\n",
    "# Back to sanity\n",
    "_ = np.seterr(**defaults)\n",
    "\n",
    "# An equivalent way, with a context manager:\n",
    "\n",
    "with np.errstate(divide='ignore'):\n",
    "    Z = np.ones(1) / 0"
   ]
  },
  {
   "cell_type": "markdown",
   "id": "0c0dab62",
   "metadata": {},
   "source": [
    "32. Is the following expressions true? (★☆☆)\n",
    "np.sqrt(-1) == np.emath.sqrt(-1)"
   ]
  },
  {
   "cell_type": "code",
   "execution_count": 39,
   "id": "7c7ba058",
   "metadata": {},
   "outputs": [
    {
     "data": {
      "text/plain": [
       "False"
      ]
     },
     "execution_count": 39,
     "metadata": {},
     "output_type": "execute_result"
    }
   ],
   "source": [
    " np.sqrt(-1) == np.emath.sqrt(-1)"
   ]
  },
  {
   "cell_type": "code",
   "execution_count": 43,
   "id": "11a9fc5f",
   "metadata": {},
   "outputs": [
    {
     "data": {
      "text/plain": [
       "nan"
      ]
     },
     "execution_count": 43,
     "metadata": {},
     "output_type": "execute_result"
    }
   ],
   "source": [
    " np.sqrt(-1) "
   ]
  },
  {
   "cell_type": "code",
   "execution_count": 41,
   "id": "83b679bf",
   "metadata": {},
   "outputs": [
    {
     "data": {
      "text/plain": [
       "1j"
      ]
     },
     "execution_count": 41,
     "metadata": {},
     "output_type": "execute_result"
    }
   ],
   "source": [
    "np.emath.sqrt(-1)"
   ]
  },
  {
   "cell_type": "markdown",
   "id": "015670da",
   "metadata": {},
   "source": [
    "33. How to get the dates of yesterday, today and tomorrow? (★☆☆)"
   ]
  },
  {
   "cell_type": "code",
   "execution_count": 45,
   "id": "f388bf98",
   "metadata": {},
   "outputs": [
    {
     "name": "stdout",
     "output_type": "stream",
     "text": [
      "2022-08-26 2022-08-27 2022-08-28\n"
     ]
    }
   ],
   "source": [
    "yesterday = np.datetime64('today', 'D') - np.timedelta64(1, 'D')\n",
    "today     = np.datetime64('today', 'D')\n",
    "tomorrow  = np.datetime64('today', 'D') + np.timedelta64(1, 'D')\n",
    "print(yesterday,today,tomorrow)"
   ]
  },
  {
   "cell_type": "markdown",
   "id": "ed59185e",
   "metadata": {},
   "source": [
    "34. How to get all the dates corresponding to the month of July 2016? (★★☆)"
   ]
  },
  {
   "cell_type": "code",
   "execution_count": 47,
   "id": "14620472",
   "metadata": {},
   "outputs": [
    {
     "name": "stdout",
     "output_type": "stream",
     "text": [
      "['2016-07-01' '2016-07-02' '2016-07-03' '2016-07-04' '2016-07-05'\n",
      " '2016-07-06' '2016-07-07' '2016-07-08' '2016-07-09' '2016-07-10'\n",
      " '2016-07-11' '2016-07-12' '2016-07-13' '2016-07-14' '2016-07-15'\n",
      " '2016-07-16' '2016-07-17' '2016-07-18' '2016-07-19' '2016-07-20'\n",
      " '2016-07-21' '2016-07-22' '2016-07-23' '2016-07-24' '2016-07-25'\n",
      " '2016-07-26' '2016-07-27' '2016-07-28' '2016-07-29' '2016-07-30'\n",
      " '2016-07-31']\n"
     ]
    }
   ],
   "source": [
    "Z = np.arange('2016-07', '2016-08', dtype='datetime64[D]')\n",
    "print(Z)"
   ]
  },
  {
   "cell_type": "markdown",
   "id": "cfdb0da2",
   "metadata": {},
   "source": [
    "35. How to compute ((A+B)*(-A/2)) in place (without copy)? (★★☆)"
   ]
  },
  {
   "cell_type": "code",
   "execution_count": 48,
   "id": "e44c082a",
   "metadata": {},
   "outputs": [
    {
     "data": {
      "text/plain": [
       "-4.5"
      ]
     },
     "execution_count": 48,
     "metadata": {},
     "output_type": "execute_result"
    }
   ],
   "source": [
    "A=np.ones(3)*1\n",
    "B=np.ones(3)*2\n",
    "C=np.ones(3)*3\n",
    "np.add(A,B,out=B)\n",
    "np.divide(A,2,out=A)\n",
    "np.negative(A,out=A)\n",
    "np.dot(A,B)"
   ]
  },
  {
   "cell_type": "markdown",
   "id": "53b0bc02",
   "metadata": {},
   "source": [
    "36. Extract the integer part of a random array of positive numbers using 4 different methods (★★☆)"
   ]
  },
  {
   "cell_type": "code",
   "execution_count": 54,
   "id": "6f9f216c",
   "metadata": {},
   "outputs": [
    {
     "name": "stdout",
     "output_type": "stream",
     "text": [
      "[10.36305707  1.99909547  6.29944674  1.57245523  9.07437668  3.45499669\n",
      "  5.50662343  1.70778628  6.83544883  8.68286509]\n",
      "[10.  1.  6.  1.  9.  3.  5.  1.  6.  8.]\n",
      "[10.  1.  6.  1.  9.  3.  5.  1.  6.  8.]\n",
      "[10.  1.  6.  1.  9.  3.  5.  1.  6.  8.]\n",
      "[10  1  6  1  9  3  5  1  6  8]\n"
     ]
    }
   ],
   "source": [
    "Z = np.random.uniform(0,10.5,10)\n",
    "print(Z)\n",
    "print (Z - Z%1)\n",
    "print (np.floor(Z))\n",
    "print (np.ceil(Z)-1)\n",
    "print (Z.astype(int))"
   ]
  },
  {
   "cell_type": "markdown",
   "id": "b4eb5398",
   "metadata": {},
   "source": [
    "37. Create a 5x5 matrix with row values ranging from 0 to 4 (★★☆)"
   ]
  },
  {
   "cell_type": "code",
   "execution_count": 3,
   "id": "173c55ce",
   "metadata": {},
   "outputs": [
    {
     "data": {
      "text/plain": [
       "array([[2, 2, 0, 0, 2],\n",
       "       [1, 3, 3, 2, 1],\n",
       "       [1, 2, 2, 3, 3],\n",
       "       [1, 0, 1, 1, 3],\n",
       "       [0, 0, 0, 0, 0]])"
      ]
     },
     "execution_count": 3,
     "metadata": {},
     "output_type": "execute_result"
    }
   ],
   "source": [
    "x=np.random.randint(0,4,(5,5))\n",
    "x"
   ]
  },
  {
   "cell_type": "markdown",
   "id": "094ff633",
   "metadata": {},
   "source": [
    "38. Consider a generator function that generates 10 integers and use it to build an array (★☆☆)"
   ]
  },
  {
   "cell_type": "code",
   "execution_count": 6,
   "id": "1ee0efee",
   "metadata": {},
   "outputs": [
    {
     "data": {
      "text/plain": [
       "array([3, 3, 6, 5, 8, 0, 7, 0, 7, 1], dtype=int64)"
      ]
     },
     "execution_count": 6,
     "metadata": {},
     "output_type": "execute_result"
    }
   ],
   "source": [
    "rng = np.random.default_rng()\n",
    "arr=rng.integers(10, size=(10))\n",
    "arr"
   ]
  },
  {
   "cell_type": "markdown",
   "id": "cb2716b3",
   "metadata": {},
   "source": [
    "39. Create a vector of size 10 with values ranging from 0 to 1, both excluded"
   ]
  },
  {
   "cell_type": "code",
   "execution_count": 8,
   "id": "5188a477",
   "metadata": {},
   "outputs": [
    {
     "data": {
      "text/plain": [
       "array([0.24336198, 0.58226199, 0.93347596, 0.87758546, 0.22911708,\n",
       "       0.76033515, 0.59079262, 0.99573955, 0.25444557, 0.50643486])"
      ]
     },
     "execution_count": 8,
     "metadata": {},
     "output_type": "execute_result"
    }
   ],
   "source": [
    "x=np.random.random((10))\n",
    "x"
   ]
  },
  {
   "cell_type": "markdown",
   "id": "4a11e113",
   "metadata": {},
   "source": [
    "40. Create a random vector of size 10 and sort it (★★☆)"
   ]
  },
  {
   "cell_type": "code",
   "execution_count": 13,
   "id": "1a1ab814",
   "metadata": {},
   "outputs": [
    {
     "data": {
      "text/plain": [
       "array([2, 2, 3, 4, 5, 5, 6, 6, 7, 7])"
      ]
     },
     "execution_count": 13,
     "metadata": {},
     "output_type": "execute_result"
    }
   ],
   "source": [
    "x=np.random.randint(1,9,(10))\n",
    "np.sort(x)"
   ]
  },
  {
   "cell_type": "markdown",
   "id": "44f0ff0f",
   "metadata": {},
   "source": [
    "41. How to sum a small array faster than np.sum? (★★☆)"
   ]
  },
  {
   "cell_type": "code",
   "execution_count": 16,
   "id": "667a2d7b",
   "metadata": {},
   "outputs": [
    {
     "data": {
      "text/plain": [
       "1783293664"
      ]
     },
     "execution_count": 16,
     "metadata": {},
     "output_type": "execute_result"
    }
   ],
   "source": [
    "Z = np.arange(1000000)\n",
    "\n",
    "np.add.reduce(Z)"
   ]
  },
  {
   "cell_type": "markdown",
   "id": "ab538626",
   "metadata": {},
   "source": [
    "42. Consider two random array A and B, check if they are equal (★★☆)"
   ]
  },
  {
   "cell_type": "code",
   "execution_count": 20,
   "id": "d0e1c53b",
   "metadata": {},
   "outputs": [
    {
     "name": "stdout",
     "output_type": "stream",
     "text": [
      "True\n"
     ]
    }
   ],
   "source": [
    "A=np.array([4,5,7,8,8])\n",
    "B=np.array([4,5,7,8,8])\n",
    "equal = np.allclose(A,B)\n",
    "\n",
    "print(equal)"
   ]
  },
  {
   "cell_type": "markdown",
   "id": "06c01d1c",
   "metadata": {},
   "source": [
    "43. Make an array immutable (read-only) (★★☆)"
   ]
  },
  {
   "cell_type": "code",
   "execution_count": 3,
   "id": "98b67517",
   "metadata": {},
   "outputs": [],
   "source": [
    "a = np.arange(10)\n",
    "a.flags.writeable = False"
   ]
  },
  {
   "cell_type": "code",
   "execution_count": 4,
   "id": "a9adf248",
   "metadata": {},
   "outputs": [
    {
     "ename": "ValueError",
     "evalue": "assignment destination is read-only",
     "output_type": "error",
     "traceback": [
      "\u001b[1;31m---------------------------------------------------------------------------\u001b[0m",
      "\u001b[1;31mValueError\u001b[0m                                Traceback (most recent call last)",
      "Input \u001b[1;32mIn [4]\u001b[0m, in \u001b[0;36m<cell line: 1>\u001b[1;34m()\u001b[0m\n\u001b[1;32m----> 1\u001b[0m a[\u001b[38;5;241m0\u001b[39m]\u001b[38;5;241m=\u001b[39m\u001b[38;5;241m1\u001b[39m\n",
      "\u001b[1;31mValueError\u001b[0m: assignment destination is read-only"
     ]
    }
   ],
   "source": [
    "a[0]=1\n",
    "#gives error as it becomes immutable"
   ]
  },
  {
   "cell_type": "markdown",
   "id": "56a21897",
   "metadata": {},
   "source": [
    "#### 44. Consider a random 10x2 matrix representing cartesian coordinates, convert them to polar coordinates (★★☆)\n"
   ]
  },
  {
   "cell_type": "code",
   "execution_count": 6,
   "id": "08d2659f",
   "metadata": {},
   "outputs": [
    {
     "data": {
      "text/plain": [
       "(array([0.81769916, 0.05721957, 0.1738187 , 0.42738556, 0.65198243,\n",
       "        0.22214625, 0.75754339, 0.83149556, 0.93313148, 0.827433  ]),\n",
       " array([0.45197643, 0.29390579, 0.06265173, 0.40386859, 0.96625219,\n",
       "        0.84367528, 0.95524626, 0.90002942, 0.20717596, 0.04788432]))"
      ]
     },
     "execution_count": 6,
     "metadata": {},
     "output_type": "execute_result"
    }
   ],
   "source": [
    "Z=np.random.random((10,2))\n",
    "X,Y = Z[:,0], Z[:,1]\n",
    "X,Y"
   ]
  },
  {
   "cell_type": "code",
   "execution_count": 7,
   "id": "4d4db4da",
   "metadata": {},
   "outputs": [
    {
     "data": {
      "text/plain": [
       "(array([0.93429899, 0.29942394, 0.1847652 , 0.58802062, 1.16564334,\n",
       "        0.87243162, 1.21916668, 1.22533172, 0.95585367, 0.8288174 ]),\n",
       " array([0.50494573, 1.37851481, 0.34594766, 0.75711476, 0.97721575,\n",
       "        1.31333246, 0.900317  , 0.82495757, 0.21847838, 0.05780646]))"
      ]
     },
     "execution_count": 7,
     "metadata": {},
     "output_type": "execute_result"
    }
   ],
   "source": [
    "R = np.sqrt(X**2+Y**2)\n",
    "T = np.arctan2(Y,X)\n",
    "R,T"
   ]
  },
  {
   "cell_type": "markdown",
   "id": "20ea95a9",
   "metadata": {},
   "source": [
    "#### 45. Create random vector of size 10 and replace the maximum value by 0 (★★☆)\n"
   ]
  },
  {
   "cell_type": "code",
   "execution_count": 9,
   "id": "493721e0",
   "metadata": {},
   "outputs": [
    {
     "data": {
      "text/plain": [
       "array([1, 5, 1, 7, 7, 3, 0, 8, 3, 5])"
      ]
     },
     "execution_count": 9,
     "metadata": {},
     "output_type": "execute_result"
    }
   ],
   "source": [
    "A=np.random.randint(1,9,(10))\n",
    "A[A.argmax()]=0\n",
    "A"
   ]
  },
  {
   "cell_type": "code",
   "execution_count": 10,
   "id": "27dfb486",
   "metadata": {},
   "outputs": [
    {
     "data": {
      "text/plain": [
       "7"
      ]
     },
     "execution_count": 10,
     "metadata": {},
     "output_type": "execute_result"
    }
   ],
   "source": [
    "A.argmax()"
   ]
  },
  {
   "cell_type": "markdown",
   "id": "f58ea559",
   "metadata": {},
   "source": [
    "#### 46. Create a structured array with `x` and `y` coordinates covering the [0,1]x[0,1] area (★★☆)"
   ]
  },
  {
   "cell_type": "code",
   "execution_count": 14,
   "id": "b3bf4f67",
   "metadata": {},
   "outputs": [
    {
     "data": {
      "text/plain": [
       "array([[(0., 0.), (0., 0.), (0., 0.), (0., 0.), (0., 0.)],\n",
       "       [(0., 0.), (0., 0.), (0., 0.), (0., 0.), (0., 0.)],\n",
       "       [(0., 0.), (0., 0.), (0., 0.), (0., 0.), (0., 0.)],\n",
       "       [(0., 0.), (0., 0.), (0., 0.), (0., 0.), (0., 0.)],\n",
       "       [(0., 0.), (0., 0.), (0., 0.), (0., 0.), (0., 0.)]],\n",
       "      dtype=[('x', '<f8'), ('y', '<f8')])"
      ]
     },
     "execution_count": 14,
     "metadata": {},
     "output_type": "execute_result"
    }
   ],
   "source": [
    "Z = np.zeros((5,5), [('x',float),('y',float)])\n",
    "Z"
   ]
  },
  {
   "cell_type": "code",
   "execution_count": 15,
   "id": "86e595fa",
   "metadata": {},
   "outputs": [
    {
     "data": {
      "text/plain": [
       "array([[(0.  , 0.  ), (0.25, 0.  ), (0.5 , 0.  ), (0.75, 0.  ),\n",
       "        (1.  , 0.  )],\n",
       "       [(0.  , 0.25), (0.25, 0.25), (0.5 , 0.25), (0.75, 0.25),\n",
       "        (1.  , 0.25)],\n",
       "       [(0.  , 0.5 ), (0.25, 0.5 ), (0.5 , 0.5 ), (0.75, 0.5 ),\n",
       "        (1.  , 0.5 )],\n",
       "       [(0.  , 0.75), (0.25, 0.75), (0.5 , 0.75), (0.75, 0.75),\n",
       "        (1.  , 0.75)],\n",
       "       [(0.  , 1.  ), (0.25, 1.  ), (0.5 , 1.  ), (0.75, 1.  ),\n",
       "        (1.  , 1.  )]], dtype=[('x', '<f8'), ('y', '<f8')])"
      ]
     },
     "execution_count": 15,
     "metadata": {},
     "output_type": "execute_result"
    }
   ],
   "source": [
    "Z['x'], Z['y'] = np.meshgrid(np.linspace(0,1,5),\n",
    "                             np.linspace(0,1,5))\n",
    "Z"
   ]
  },
  {
   "cell_type": "markdown",
   "id": "f80cebbf",
   "metadata": {},
   "source": [
    "#### 47. Given two arrays, X and Y, construct the Cauchy matrix C (Cij =1/(xi - yj)) (★★☆)"
   ]
  },
  {
   "cell_type": "code",
   "execution_count": 24,
   "id": "1100d820",
   "metadata": {},
   "outputs": [
    {
     "data": {
      "text/plain": [
       "(array([0, 1, 2, 3, 4, 5, 6, 7]),\n",
       " array([0.5, 1.5, 2.5, 3.5, 4.5, 5.5, 6.5, 7.5]))"
      ]
     },
     "execution_count": 24,
     "metadata": {},
     "output_type": "execute_result"
    }
   ],
   "source": [
    "X = np.arange(8)\n",
    "Y = X + 0.5\n",
    "X,Y"
   ]
  },
  {
   "cell_type": "code",
   "execution_count": 25,
   "id": "20496a6b",
   "metadata": {},
   "outputs": [
    {
     "data": {
      "text/plain": [
       "array([[-0.5, -1.5, -2.5, -3.5, -4.5, -5.5, -6.5, -7.5],\n",
       "       [ 0.5, -0.5, -1.5, -2.5, -3.5, -4.5, -5.5, -6.5],\n",
       "       [ 1.5,  0.5, -0.5, -1.5, -2.5, -3.5, -4.5, -5.5],\n",
       "       [ 2.5,  1.5,  0.5, -0.5, -1.5, -2.5, -3.5, -4.5],\n",
       "       [ 3.5,  2.5,  1.5,  0.5, -0.5, -1.5, -2.5, -3.5],\n",
       "       [ 4.5,  3.5,  2.5,  1.5,  0.5, -0.5, -1.5, -2.5],\n",
       "       [ 5.5,  4.5,  3.5,  2.5,  1.5,  0.5, -0.5, -1.5],\n",
       "       [ 6.5,  5.5,  4.5,  3.5,  2.5,  1.5,  0.5, -0.5]])"
      ]
     },
     "execution_count": 25,
     "metadata": {},
     "output_type": "execute_result"
    }
   ],
   "source": [
    "c=np.subtract.outer(X,Y)\n",
    "c"
   ]
  },
  {
   "cell_type": "code",
   "execution_count": 26,
   "id": "a31bd950",
   "metadata": {},
   "outputs": [
    {
     "data": {
      "text/plain": [
       "array([[-2.        , -0.66666667, -0.4       , -0.28571429, -0.22222222,\n",
       "        -0.18181818, -0.15384615, -0.13333333],\n",
       "       [ 2.        , -2.        , -0.66666667, -0.4       , -0.28571429,\n",
       "        -0.22222222, -0.18181818, -0.15384615],\n",
       "       [ 0.66666667,  2.        , -2.        , -0.66666667, -0.4       ,\n",
       "        -0.28571429, -0.22222222, -0.18181818],\n",
       "       [ 0.4       ,  0.66666667,  2.        , -2.        , -0.66666667,\n",
       "        -0.4       , -0.28571429, -0.22222222],\n",
       "       [ 0.28571429,  0.4       ,  0.66666667,  2.        , -2.        ,\n",
       "        -0.66666667, -0.4       , -0.28571429],\n",
       "       [ 0.22222222,  0.28571429,  0.4       ,  0.66666667,  2.        ,\n",
       "        -2.        , -0.66666667, -0.4       ],\n",
       "       [ 0.18181818,  0.22222222,  0.28571429,  0.4       ,  0.66666667,\n",
       "         2.        , -2.        , -0.66666667],\n",
       "       [ 0.15384615,  0.18181818,  0.22222222,  0.28571429,  0.4       ,\n",
       "         0.66666667,  2.        , -2.        ]])"
      ]
     },
     "execution_count": 26,
     "metadata": {},
     "output_type": "execute_result"
    }
   ],
   "source": [
    "c=1.0/c\n",
    "c"
   ]
  },
  {
   "cell_type": "code",
   "execution_count": 27,
   "id": "a3a90533",
   "metadata": {},
   "outputs": [
    {
     "name": "stdout",
     "output_type": "stream",
     "text": [
      "3638.163637117973\n"
     ]
    }
   ],
   "source": [
    "print(np.linalg.det(c))\n"
   ]
  },
  {
   "cell_type": "markdown",
   "id": "3ffaf925",
   "metadata": {},
   "source": [
    "#### 48. Print the minimum and maximum representable value for each numpy scalar type (★★☆)\n"
   ]
  },
  {
   "cell_type": "code",
   "execution_count": 29,
   "id": "a9ea7773",
   "metadata": {},
   "outputs": [
    {
     "name": "stdout",
     "output_type": "stream",
     "text": [
      "-128\n",
      "127\n",
      "-2147483648\n",
      "2147483647\n",
      "-9223372036854775808\n",
      "9223372036854775807\n",
      "-3.4028235e+38\n",
      "3.4028235e+38\n",
      "1.1920929e-07\n",
      "-1.7976931348623157e+308\n",
      "1.7976931348623157e+308\n",
      "2.220446049250313e-16\n"
     ]
    }
   ],
   "source": [
    "for dtype in [np.int8, np.int32, np.int64]:\n",
    "    print(np.iinfo(dtype).min)\n",
    "    print(np.iinfo(dtype).max)\n",
    "for dtype in [np.float32, np.float64]:\n",
    "    print(np.finfo(dtype).min)\n",
    "    print(np.finfo(dtype).max)\n",
    "    print(np.finfo(dtype).eps)"
   ]
  },
  {
   "cell_type": "markdown",
   "id": "52540a54",
   "metadata": {},
   "source": [
    "#### 49. How to print all the values of an array? (★★☆)"
   ]
  },
  {
   "cell_type": "code",
   "execution_count": 33,
   "id": "ba984b5b",
   "metadata": {},
   "outputs": [
    {
     "name": "stdout",
     "output_type": "stream",
     "text": [
      "[0 1 2 3 4 5 6 7]\n"
     ]
    }
   ],
   "source": [
    "z=np.arange(8)\n",
    "print(z)"
   ]
  },
  {
   "cell_type": "markdown",
   "id": "5b22af9a",
   "metadata": {},
   "source": [
    "#### 50. How to find the closest value (to a given scalar) in a vector? (★★☆)\n"
   ]
  },
  {
   "cell_type": "code",
   "execution_count": 52,
   "id": "bc269990",
   "metadata": {},
   "outputs": [
    {
     "data": {
      "text/plain": [
       "(array([0, 1, 2, 3, 4, 5, 6, 7]), 6.385457997950157)"
      ]
     },
     "execution_count": 52,
     "metadata": {},
     "output_type": "execute_result"
    }
   ],
   "source": [
    "a=np.arange(8)\n",
    "b=np.random.uniform(0,8)\n",
    "a,b"
   ]
  },
  {
   "cell_type": "code",
   "execution_count": 53,
   "id": "8e3f07fc",
   "metadata": {},
   "outputs": [
    {
     "name": "stdout",
     "output_type": "stream",
     "text": [
      "6\n"
     ]
    }
   ],
   "source": [
    "index = (np.abs(a-b)).argmin()\n",
    "print(a[index])"
   ]
  },
  {
   "cell_type": "markdown",
   "id": "cb9ea7f4",
   "metadata": {},
   "source": [
    "\n",
    "#### 51. Create a structured array representing a position (x,y) and a color (r,g,b) (★★☆)"
   ]
  },
  {
   "cell_type": "code",
   "execution_count": 54,
   "id": "19696f36",
   "metadata": {},
   "outputs": [
    {
     "name": "stdout",
     "output_type": "stream",
     "text": [
      "[((0., 0.), (0., 0., 0.)) ((0., 0.), (0., 0., 0.))\n",
      " ((0., 0.), (0., 0., 0.)) ((0., 0.), (0., 0., 0.))\n",
      " ((0., 0.), (0., 0., 0.)) ((0., 0.), (0., 0., 0.))\n",
      " ((0., 0.), (0., 0., 0.)) ((0., 0.), (0., 0., 0.))\n",
      " ((0., 0.), (0., 0., 0.)) ((0., 0.), (0., 0., 0.))]\n"
     ]
    },
    {
     "name": "stderr",
     "output_type": "stream",
     "text": [
      "C:\\temp\\ipykernel_15176\\274409719.py:1: FutureWarning: Passing (type, 1) or '1type' as a synonym of type is deprecated; in a future version of numpy, it will be understood as (type, (1,)) / '(1,)type'.\n",
      "  Z = np.zeros(10, [ ('position', [ ('x', float, 1),\n"
     ]
    }
   ],
   "source": [
    "Z = np.zeros(10, [ ('position', [ ('x', float, 1),\n",
    "                                  ('y', float, 1)]),\n",
    "                   ('color',    [ ('r', float, 1),\n",
    "                                  ('g', float, 1),\n",
    "                                  ('b', float, 1)])])\n",
    "print(Z)"
   ]
  },
  {
   "cell_type": "markdown",
   "id": "af1d077c",
   "metadata": {},
   "source": [
    "#### 52. Consider a random vector with shape (100,2) representing coordinates, find point by point distances (★★☆)\n"
   ]
  },
  {
   "cell_type": "code",
   "execution_count": 56,
   "id": "b215756d",
   "metadata": {},
   "outputs": [
    {
     "data": {
      "text/plain": [
       "(array([[0.4824258 , 0.65305302, 0.89191249, 0.02365033, 0.15543399,\n",
       "         0.7881327 , 0.17932789, 0.87764754, 0.10110757, 0.79453537]]),\n",
       " array([[0.09744633, 0.61633499, 0.66025062, 0.50773741, 0.21009215,\n",
       "         0.69804588, 0.52271862, 0.40258961, 0.54975315, 0.28068326]]))"
      ]
     },
     "execution_count": 56,
     "metadata": {},
     "output_type": "execute_result"
    }
   ],
   "source": [
    "Z = np.random.random((10,2))\n",
    "X,Y = np.atleast_2d(Z[:,0], Z[:,1])\n",
    "X,Y"
   ]
  },
  {
   "cell_type": "code",
   "execution_count": 58,
   "id": "bf013be6",
   "metadata": {},
   "outputs": [
    {
     "name": "stdout",
     "output_type": "stream",
     "text": [
      "[[0.         0.54622256 0.69600863 0.61547844 0.34585072 0.6739262\n",
      "  0.52223066 0.49931217 0.59159534 0.36192286]\n",
      " [0.54622256 0.         0.24286298 0.63870274 0.64238458 0.1578708\n",
      "  0.48288665 0.31004803 0.55594687 0.36425175]\n",
      " [0.69600863 0.24286298 0.         0.88155514 0.86315886 0.11044784\n",
      "  0.72573539 0.25805558 0.79848739 0.39185926]\n",
      " [0.61547844 0.63870274 0.88155514 0.         0.32551442 0.78781382\n",
      "  0.15639674 0.86044599 0.08811894 0.80362761]\n",
      " [0.34585072 0.64238458 0.86315886 0.32551442 0.         0.79900344\n",
      "  0.31353824 0.74742737 0.34397814 0.64298808]\n",
      " [0.6739262  0.1578708  0.11044784 0.78781382 0.79900344 0.\n",
      "  0.6335479  0.30871882 0.70284726 0.41741172]\n",
      " [0.52223066 0.48288665 0.72573539 0.15639674 0.31353824 0.6335479\n",
      "  0.         0.70857696 0.0827604  0.66110616]\n",
      " [0.49931217 0.31004803 0.25805558 0.86044599 0.74742737 0.30871882\n",
      "  0.70857696 0.         0.79036158 0.14754251]\n",
      " [0.59159534 0.55594687 0.79848739 0.08811894 0.34397814 0.70284726\n",
      "  0.0827604  0.79036158 0.         0.74380153]\n",
      " [0.36192286 0.36425175 0.39185926 0.80362761 0.64298808 0.41741172\n",
      "  0.66110616 0.14754251 0.74380153 0.        ]]\n"
     ]
    }
   ],
   "source": [
    "D = np.sqrt( (X-X.T)**2 + (Y-Y.T)**2)\n",
    "print(D)"
   ]
  },
  {
   "cell_type": "code",
   "execution_count": 59,
   "id": "cea7bcc4",
   "metadata": {},
   "outputs": [
    {
     "name": "stderr",
     "output_type": "stream",
     "text": [
      "C:\\Anaconda3\\lib\\site-packages\\scipy\\__init__.py:146: UserWarning: A NumPy version >=1.16.5 and <1.23.0 is required for this version of SciPy (detected version 1.23.2\n",
      "  warnings.warn(f\"A NumPy version >={np_minversion} and <{np_maxversion}\"\n"
     ]
    },
    {
     "name": "stdout",
     "output_type": "stream",
     "text": [
      "[[0.         0.62130505 0.53729539 0.83673984 0.69321275 0.85685663\n",
      "  0.64713438 0.58290434 0.37156459 0.68429465]\n",
      " [0.62130505 0.         0.14782011 0.83986545 0.39127559 0.69956614\n",
      "  0.14429379 0.14012831 0.83076977 0.39122512]\n",
      " [0.53729539 0.14782011 0.         0.7011931  0.2802264  0.57806883\n",
      "  0.27731319 0.24595946 0.69943829 0.27731947]\n",
      " [0.83673984 0.83986545 0.7011931  0.         0.47320534 0.21976474\n",
      "  0.97797987 0.94531126 0.61664122 0.46884741]\n",
      " [0.69321275 0.39127559 0.2802264  0.47320534 0.         0.30908761\n",
      "  0.53541508 0.51817139 0.70906653 0.00994981]\n",
      " [0.85685663 0.69956614 0.57806883 0.21976474 0.30908761 0.\n",
      "  0.84330308 0.82222453 0.72757215 0.30846883]\n",
      " [0.64713438 0.14429379 0.27731319 0.97797987 0.53541508 0.84330308\n",
      "  0.         0.06423005 0.9084814  0.53518553]\n",
      " [0.58290434 0.14012831 0.24595946 0.94531126 0.51817139 0.82222453\n",
      "  0.06423005 0.         0.84835256 0.51677918]\n",
      " [0.37156459 0.83076977 0.69943829 0.61664122 0.70906653 0.72757215\n",
      "  0.9084814  0.84835256 0.         0.69914871]\n",
      " [0.68429465 0.39122512 0.27731947 0.46884741 0.00994981 0.30846883\n",
      "  0.53518553 0.51677918 0.69914871 0.        ]]\n"
     ]
    }
   ],
   "source": [
    "import scipy\n",
    "# Thanks Gavin Heverly-Coulson (#issue 1)\n",
    "import scipy.spatial\n",
    "\n",
    "Z = np.random.random((10,2))\n",
    "D = scipy.spatial.distance.cdist(Z,Z)\n",
    "print(D)"
   ]
  },
  {
   "cell_type": "markdown",
   "id": "aac3405c",
   "metadata": {},
   "source": [
    "#### 53. How to convert a float (32 bits) array into an integer (32 bits) in place?"
   ]
  },
  {
   "cell_type": "code",
   "execution_count": 63,
   "id": "1dc5756b",
   "metadata": {},
   "outputs": [
    {
     "data": {
      "text/plain": [
       "array([38.53426 , 40.8957  , 37.72999 , 36.580772, 19.805923, 61.07688 ,\n",
       "       48.40021 , 32.54716 , 76.12231 , 59.69217 ], dtype=float32)"
      ]
     },
     "execution_count": 63,
     "metadata": {},
     "output_type": "execute_result"
    }
   ],
   "source": [
    "Z = (np.random.rand(10)*100).astype(np.float32)\n",
    "Z"
   ]
  },
  {
   "cell_type": "code",
   "execution_count": 66,
   "id": "77cd8195",
   "metadata": {},
   "outputs": [
    {
     "data": {
      "text/plain": [
       "array([38, 40, 37, 36, 19, 61, 48, 32, 76, 59])"
      ]
     },
     "execution_count": 66,
     "metadata": {},
     "output_type": "execute_result"
    }
   ],
   "source": [
    "Y = Z.view(np.int32)\n",
    "Y[:]=Z\n",
    "Y"
   ]
  },
  {
   "cell_type": "markdown",
   "id": "83484562",
   "metadata": {},
   "source": [
    "#### 54. How to read the following file? (★★☆)\n",
    "```\n",
    "1, 2, 3, 4, 5\n",
    "6,  ,  , 7, 8\n",
    " ,  , 9,10,11\n",
    "```"
   ]
  },
  {
   "cell_type": "code",
   "execution_count": 69,
   "id": "370bc7b4",
   "metadata": {},
   "outputs": [
    {
     "name": "stdout",
     "output_type": "stream",
     "text": [
      "[[ 1  2  3  4  5]\n",
      " [ 6 -1 -1  7  8]\n",
      " [-1 -1  9 10 11]]\n"
     ]
    },
    {
     "name": "stderr",
     "output_type": "stream",
     "text": [
      "C:\\temp\\ipykernel_15176\\2000409876.py:8: DeprecationWarning: `np.int` is a deprecated alias for the builtin `int`. To silence this warning, use `int` by itself. Doing this will not modify any behavior and is safe. When replacing `np.int`, you may wish to use e.g. `np.int64` or `np.int32` to specify the precision. If you wish to review your current use, check the release note link for additional information.\n",
      "Deprecated in NumPy 1.20; for more details and guidance: https://numpy.org/devdocs/release/1.20.0-notes.html#deprecations\n",
      "  Z = np.genfromtxt(s, delimiter=\",\", dtype=np.int)\n"
     ]
    }
   ],
   "source": [
    "from io import StringIO\n",
    "\n",
    "# Fake file\n",
    "s = StringIO('''1, 2, 3, 4, 5\n",
    "                6,  ,  , 7, 8\n",
    "                 ,  , 9,10,11\n",
    "''')\n",
    "Z = np.genfromtxt(s, delimiter=\",\", dtype=np.int)\n",
    "print(Z)"
   ]
  },
  {
   "cell_type": "markdown",
   "id": "84295d58",
   "metadata": {},
   "source": [
    "#### 55. What is the equivalent of enumerate for numpy arrays? (★★☆)"
   ]
  },
  {
   "cell_type": "code",
   "execution_count": 70,
   "id": "1c870459",
   "metadata": {},
   "outputs": [
    {
     "name": "stdout",
     "output_type": "stream",
     "text": [
      "(0, 0) 0\n",
      "(0, 1) 1\n",
      "(0, 2) 2\n",
      "(1, 0) 3\n",
      "(1, 1) 4\n",
      "(1, 2) 5\n",
      "(2, 0) 6\n",
      "(2, 1) 7\n",
      "(2, 2) 8\n",
      "(0, 0) 0\n",
      "(0, 1) 1\n",
      "(0, 2) 2\n",
      "(1, 0) 3\n",
      "(1, 1) 4\n",
      "(1, 2) 5\n",
      "(2, 0) 6\n",
      "(2, 1) 7\n",
      "(2, 2) 8\n"
     ]
    }
   ],
   "source": [
    "Z = np.arange(9).reshape(3,3)\n",
    "for index, value in np.ndenumerate(Z):\n",
    "    print(index, value)\n",
    "for index in np.ndindex(Z.shape):\n",
    "    print(index, Z[index])"
   ]
  },
  {
   "cell_type": "code",
   "execution_count": 71,
   "id": "bdaf4c5f",
   "metadata": {},
   "outputs": [],
   "source": [
    "np.ndenumerate?"
   ]
  },
  {
   "cell_type": "code",
   "execution_count": 72,
   "id": "cdbaa2bb",
   "metadata": {},
   "outputs": [],
   "source": [
    "np.ndindex?"
   ]
  },
  {
   "cell_type": "markdown",
   "id": "2bc973f8",
   "metadata": {},
   "source": [
    "## 56. Generate a generic 2D Gaussian-like array (★★☆)\n"
   ]
  },
  {
   "cell_type": "code",
   "execution_count": 73,
   "id": "30281b81",
   "metadata": {
    "collapsed": true
   },
   "outputs": [
    {
     "name": "stdout",
     "output_type": "stream",
     "text": [
      "[[0.36787944 0.44822088 0.51979489 0.57375342 0.60279818 0.60279818\n",
      "  0.57375342 0.51979489 0.44822088 0.36787944]\n",
      " [0.44822088 0.54610814 0.63331324 0.69905581 0.73444367 0.73444367\n",
      "  0.69905581 0.63331324 0.54610814 0.44822088]\n",
      " [0.51979489 0.63331324 0.73444367 0.81068432 0.85172308 0.85172308\n",
      "  0.81068432 0.73444367 0.63331324 0.51979489]\n",
      " [0.57375342 0.69905581 0.81068432 0.89483932 0.9401382  0.9401382\n",
      "  0.89483932 0.81068432 0.69905581 0.57375342]\n",
      " [0.60279818 0.73444367 0.85172308 0.9401382  0.98773022 0.98773022\n",
      "  0.9401382  0.85172308 0.73444367 0.60279818]\n",
      " [0.60279818 0.73444367 0.85172308 0.9401382  0.98773022 0.98773022\n",
      "  0.9401382  0.85172308 0.73444367 0.60279818]\n",
      " [0.57375342 0.69905581 0.81068432 0.89483932 0.9401382  0.9401382\n",
      "  0.89483932 0.81068432 0.69905581 0.57375342]\n",
      " [0.51979489 0.63331324 0.73444367 0.81068432 0.85172308 0.85172308\n",
      "  0.81068432 0.73444367 0.63331324 0.51979489]\n",
      " [0.44822088 0.54610814 0.63331324 0.69905581 0.73444367 0.73444367\n",
      "  0.69905581 0.63331324 0.54610814 0.44822088]\n",
      " [0.36787944 0.44822088 0.51979489 0.57375342 0.60279818 0.60279818\n",
      "  0.57375342 0.51979489 0.44822088 0.36787944]]\n"
     ]
    }
   ],
   "source": [
    "X, Y = np.meshgrid(np.linspace(-1,1,10), np.linspace(-1,1,10))\n",
    "D = np.sqrt(X*X+Y*Y)\n",
    "sigma, mu = 1.0, 0.0\n",
    "G = np.exp(-( (D-mu)**2 / ( 2.0 * sigma**2 ) ) )\n",
    "print(G)"
   ]
  },
  {
   "cell_type": "code",
   "execution_count": 74,
   "id": "af965184",
   "metadata": {},
   "outputs": [],
   "source": [
    "np.meshgrid?"
   ]
  },
  {
   "cell_type": "markdown",
   "id": "cb9b854e",
   "metadata": {},
   "source": [
    "#### 57. How to randomly place p elements in a 2D array? (★★☆)"
   ]
  },
  {
   "cell_type": "code",
   "execution_count": 77,
   "id": "2ace3a15",
   "metadata": {},
   "outputs": [
    {
     "name": "stdout",
     "output_type": "stream",
     "text": [
      "[[0. 0. 1. 0. 0. 0. 0. 0. 0. 0.]\n",
      " [0. 0. 0. 0. 0. 0. 0. 0. 0. 0.]\n",
      " [0. 0. 0. 0. 0. 0. 0. 0. 0. 0.]\n",
      " [0. 0. 1. 0. 0. 0. 0. 0. 0. 0.]\n",
      " [0. 0. 0. 0. 0. 0. 0. 0. 0. 0.]\n",
      " [0. 0. 0. 0. 0. 0. 0. 0. 0. 0.]\n",
      " [0. 0. 0. 0. 0. 1. 0. 0. 0. 0.]\n",
      " [0. 0. 0. 0. 0. 0. 0. 0. 0. 0.]\n",
      " [0. 0. 0. 0. 0. 0. 0. 0. 0. 0.]\n",
      " [0. 0. 0. 0. 0. 0. 0. 0. 0. 0.]]\n"
     ]
    }
   ],
   "source": [
    "n=10\n",
    "p=3\n",
    "Z=np.zeros((n,n))\n",
    "np.put(Z,np.random.choice(range(n*n),p,replace = False),1)\n",
    "print(Z)"
   ]
  },
  {
   "cell_type": "markdown",
   "id": "7196cacc",
   "metadata": {},
   "source": [
    "#### 58. Subtract the mean of each row of a matrix (★★☆)"
   ]
  },
  {
   "cell_type": "code",
   "execution_count": 84,
   "id": "c6dc29db",
   "metadata": {},
   "outputs": [
    {
     "data": {
      "text/plain": [
       "array([[ 0.6,  1.6, -1.4, -2.4,  1.6, -1.4,  0.6,  0.6,  1.6, -1.4],\n",
       "       [-1.3,  1.7,  0.7, -0.3,  0.7, -1.3, -1.3,  0.7,  1.7, -1.3],\n",
       "       [ 1.6,  0.6, -2.4, -0.4,  0.6,  0.6,  0.6, -1.4,  1.6, -1.4],\n",
       "       [-1.4, -0.4, -1.4,  0.6, -1.4, -0.4, -0.4,  1.6,  1.6,  1.6],\n",
       "       [-1.5, -1.5, -0.5, -0.5, -1.5,  2.5,  1.5,  2.5, -0.5, -0.5]])"
      ]
     },
     "execution_count": 84,
     "metadata": {},
     "output_type": "execute_result"
    }
   ],
   "source": [
    "x=np.random.randint(5,10,(5,10))\n",
    "y=x-x.mean(axis=1).reshape(-1,1)\n",
    "y"
   ]
  },
  {
   "cell_type": "markdown",
   "id": "6b4201cd",
   "metadata": {},
   "source": [
    "#### 59. How to sort an array by the nth column? (★★☆)"
   ]
  },
  {
   "cell_type": "code",
   "execution_count": 88,
   "id": "2df04267",
   "metadata": {},
   "outputs": [
    {
     "name": "stdout",
     "output_type": "stream",
     "text": [
      "[[3 1 7 5 3 5 5 5 1 5]\n",
      " [3 4 8 1 6 5 4 2 9 2]\n",
      " [7 9 7 4 2 9 5 5 8 8]\n",
      " [7 6 5 1 4 4 9 8 1 1]\n",
      " [2 7 3 5 7 1 7 2 6 2]\n",
      " [6 5 7 4 4 4 7 5 9 1]\n",
      " [6 4 2 1 9 5 1 3 1 2]\n",
      " [7 6 5 5 3 9 9 3 8 9]\n",
      " [8 6 9 6 4 3 4 5 8 4]\n",
      " [9 7 4 8 9 2 4 3 7 8]]\n"
     ]
    }
   ],
   "source": [
    "z=np.random.randint(1,10,(10,10))\n",
    "print(z)"
   ]
  },
  {
   "cell_type": "code",
   "execution_count": 90,
   "id": "64f3fb6c",
   "metadata": {},
   "outputs": [
    {
     "data": {
      "text/plain": [
       "array([[3, 1, 7, 5, 3, 5, 5, 5, 1, 5],\n",
       "       [3, 4, 8, 1, 6, 5, 4, 2, 9, 2],\n",
       "       [6, 4, 2, 1, 9, 5, 1, 3, 1, 2],\n",
       "       [6, 5, 7, 4, 4, 4, 7, 5, 9, 1],\n",
       "       [7, 6, 5, 1, 4, 4, 9, 8, 1, 1],\n",
       "       [7, 6, 5, 5, 3, 9, 9, 3, 8, 9],\n",
       "       [8, 6, 9, 6, 4, 3, 4, 5, 8, 4],\n",
       "       [2, 7, 3, 5, 7, 1, 7, 2, 6, 2],\n",
       "       [9, 7, 4, 8, 9, 2, 4, 3, 7, 8],\n",
       "       [7, 9, 7, 4, 2, 9, 5, 5, 8, 8]])"
      ]
     },
     "execution_count": 90,
     "metadata": {},
     "output_type": "execute_result"
    }
   ],
   "source": [
    "z_sort=z[z[:,1].argsort()]\n",
    "print(z_sort) #sort the elements by column 1"
   ]
  },
  {
   "cell_type": "markdown",
   "id": "021e2848",
   "metadata": {},
   "source": [
    "#### 60. How to tell if a given 2D array has null columns? (★★☆)\n"
   ]
  },
  {
   "cell_type": "code",
   "execution_count": 91,
   "id": "4dec5f9f",
   "metadata": {},
   "outputs": [
    {
     "name": "stdout",
     "output_type": "stream",
     "text": [
      "False\n"
     ]
    }
   ],
   "source": [
    "z=np.random.randint(0,3,(5,5))\n",
    "print((~z.any(axis=0)).any())"
   ]
  },
  {
   "cell_type": "markdown",
   "id": "1d9c46f4",
   "metadata": {},
   "source": [
    "#### 61. Find the nearest value from a given value in an array (★★☆)"
   ]
  },
  {
   "cell_type": "code",
   "execution_count": 101,
   "id": "938327e4",
   "metadata": {},
   "outputs": [
    {
     "data": {
      "text/plain": [
       "array([0.83804025, 0.10853198, 0.8732595 , 0.97243485, 0.03513007,\n",
       "       0.73568282, 0.66518128, 0.24910174, 0.39710304, 0.27775082])"
      ]
     },
     "execution_count": 101,
     "metadata": {},
     "output_type": "execute_result"
    }
   ],
   "source": [
    "z=np.random.uniform(0,1,10)\n",
    "val=0.5\n",
    "z"
   ]
  },
  {
   "cell_type": "code",
   "execution_count": 102,
   "id": "17f7b05f",
   "metadata": {},
   "outputs": [
    {
     "data": {
      "text/plain": [
       "array([ 0.33804025, -0.39146802,  0.3732595 ,  0.47243485, -0.46486993,\n",
       "        0.23568282,  0.16518128, -0.25089826, -0.10289696, -0.22224918])"
      ]
     },
     "execution_count": 102,
     "metadata": {},
     "output_type": "execute_result"
    }
   ],
   "source": [
    "(z-val)"
   ]
  },
  {
   "cell_type": "code",
   "execution_count": 103,
   "id": "09750779",
   "metadata": {},
   "outputs": [
    {
     "data": {
      "text/plain": [
       "array([0.33804025, 0.39146802, 0.3732595 , 0.47243485, 0.46486993,\n",
       "       0.23568282, 0.16518128, 0.25089826, 0.10289696, 0.22224918])"
      ]
     },
     "execution_count": 103,
     "metadata": {},
     "output_type": "execute_result"
    }
   ],
   "source": [
    "np.abs(z-val)"
   ]
  },
  {
   "cell_type": "code",
   "execution_count": 104,
   "id": "2828ab91",
   "metadata": {},
   "outputs": [
    {
     "data": {
      "text/plain": [
       "8"
      ]
     },
     "execution_count": 104,
     "metadata": {},
     "output_type": "execute_result"
    }
   ],
   "source": [
    "np.abs(z-val).argmin()"
   ]
  },
  {
   "cell_type": "code",
   "execution_count": 106,
   "id": "b54f555f",
   "metadata": {},
   "outputs": [
    {
     "data": {
      "text/plain": [
       "0.3971030443230744"
      ]
     },
     "execution_count": 106,
     "metadata": {},
     "output_type": "execute_result"
    }
   ],
   "source": [
    "z[8]"
   ]
  },
  {
   "cell_type": "code",
   "execution_count": 107,
   "id": "e4eb060f",
   "metadata": {},
   "outputs": [
    {
     "data": {
      "text/plain": [
       "0.3971030443230744"
      ]
     },
     "execution_count": 107,
     "metadata": {},
     "output_type": "execute_result"
    }
   ],
   "source": [
    "z.flat[8]"
   ]
  },
  {
   "cell_type": "markdown",
   "id": "31f6695d",
   "metadata": {},
   "source": [
    "#### 62. Considering two arrays with shape (1,3) and (3,1), how to compute their sum using an iterator? (★★☆)"
   ]
  },
  {
   "cell_type": "code",
   "execution_count": 117,
   "id": "d346509b",
   "metadata": {},
   "outputs": [],
   "source": [
    "x=np.random.randint(1,10,(1,3))\n",
    "y=np.random.randint(1,10,(3,1))\n",
    "sum_xy=np.nditer([x,y,None])"
   ]
  },
  {
   "cell_type": "code",
   "execution_count": 118,
   "id": "62252cd6",
   "metadata": {},
   "outputs": [
    {
     "data": {
      "text/plain": [
       "(array([[8, 6, 6]]),\n",
       " array([[8],\n",
       "        [9],\n",
       "        [4]]))"
      ]
     },
     "execution_count": 118,
     "metadata": {},
     "output_type": "execute_result"
    }
   ],
   "source": [
    "x,y"
   ]
  },
  {
   "cell_type": "code",
   "execution_count": 119,
   "id": "391c2e61",
   "metadata": {},
   "outputs": [],
   "source": [
    "for x,y,z in sum_xy : z[...]=x+y"
   ]
  },
  {
   "cell_type": "code",
   "execution_count": 120,
   "id": "f15208fa",
   "metadata": {},
   "outputs": [
    {
     "data": {
      "text/plain": [
       "array([[16, 14, 14],\n",
       "       [17, 15, 15],\n",
       "       [12, 10, 10]])"
      ]
     },
     "execution_count": 120,
     "metadata": {},
     "output_type": "execute_result"
    }
   ],
   "source": [
    "sum_xy.operands[2]"
   ]
  },
  {
   "cell_type": "markdown",
   "id": "629845ea",
   "metadata": {},
   "source": [
    "#### 63. Create an array class that has a name attribute (★★☆)"
   ]
  },
  {
   "cell_type": "code",
   "execution_count": 122,
   "id": "461cc2ca",
   "metadata": {},
   "outputs": [
    {
     "name": "stdout",
     "output_type": "stream",
     "text": [
      "range_10\n"
     ]
    }
   ],
   "source": [
    "class NamedArray(np.ndarray):\n",
    "    def __new__(cls, array, name=\"no name\"):\n",
    "        obj = np.asarray(array).view(cls)\n",
    "        obj.name = name\n",
    "        return obj\n",
    "    def __array_finalize__(self, obj):\n",
    "        if obj is None: return\n",
    "        self.info = getattr(obj, 'name', \"no name\")\n",
    "\n",
    "Z = NamedArray(np.arange(10), \"range_10\")\n",
    "print (Z.name)"
   ]
  },
  {
   "cell_type": "markdown",
   "id": "cfe3172f",
   "metadata": {},
   "source": [
    "#### 64. Consider a given vector, how to add 1 to each element indexed by a second vector (be careful with repeated indices)? (★★★)"
   ]
  },
  {
   "cell_type": "code",
   "execution_count": 126,
   "id": "f5181726",
   "metadata": {},
   "outputs": [
    {
     "data": {
      "text/plain": [
       "(array([1., 1., 1., 1., 1., 1., 1., 1., 1., 1.]),\n",
       " array([0, 3, 2, 0, 0, 2, 3, 4, 4, 6, 7, 9, 9, 2, 1, 6, 9, 5, 3, 3]))"
      ]
     },
     "execution_count": 126,
     "metadata": {},
     "output_type": "execute_result"
    }
   ],
   "source": [
    "z=np.ones(10)\n",
    "i=np.random.randint(0,len(z),20)\n",
    "z,i"
   ]
  },
  {
   "cell_type": "code",
   "execution_count": 127,
   "id": "64aa8ef4",
   "metadata": {},
   "outputs": [
    {
     "name": "stdout",
     "output_type": "stream",
     "text": [
      "[4. 2. 4. 5. 3. 2. 3. 2. 1. 4.]\n"
     ]
    }
   ],
   "source": [
    "z+=np.bincount(i,minlength=len(z))\n",
    "print(z)"
   ]
  },
  {
   "cell_type": "code",
   "execution_count": 128,
   "id": "730a34a0",
   "metadata": {},
   "outputs": [
    {
     "name": "stdout",
     "output_type": "stream",
     "text": [
      "[7. 3. 7. 9. 5. 3. 5. 3. 1. 7.]\n"
     ]
    }
   ],
   "source": [
    "np.add.at(z,i, 1)\n",
    "print(z)"
   ]
  },
  {
   "cell_type": "code",
   "execution_count": 130,
   "id": "05bad30e",
   "metadata": {},
   "outputs": [],
   "source": [
    "np.bincount?"
   ]
  },
  {
   "cell_type": "markdown",
   "id": "530dd44f",
   "metadata": {},
   "source": [
    "#### 65. How to accumulate elements of a vector (X) to an array (F) based on an index list (I)? (★★★)"
   ]
  },
  {
   "cell_type": "code",
   "execution_count": 129,
   "id": "77a1a5dc",
   "metadata": {},
   "outputs": [
    {
     "name": "stdout",
     "output_type": "stream",
     "text": [
      "[0. 7. 0. 6. 5. 0. 0. 0. 0. 3.]\n"
     ]
    }
   ],
   "source": [
    "X = [1,2,3,4,5,6]\n",
    "I = [1,3,9,3,4,1]\n",
    "F = np.bincount(I,X)\n",
    "print(F)"
   ]
  },
  {
   "cell_type": "markdown",
   "id": "f9cccb8a",
   "metadata": {},
   "source": [
    "#### 66. Considering a (w,h,3) image of (dtype=ubyte), compute the number of unique colors (★★☆)"
   ]
  },
  {
   "cell_type": "code",
   "execution_count": 131,
   "id": "78ad7bf3",
   "metadata": {},
   "outputs": [
    {
     "name": "stdout",
     "output_type": "stream",
     "text": [
      "64\n"
     ]
    }
   ],
   "source": [
    "w, h = 256, 256\n",
    "I = np.random.randint(0, 4, (h, w, 3)).astype(np.ubyte)\n",
    "colors = np.unique(I.reshape(-1, 3), axis=0)\n",
    "n = len(colors)\n",
    "print(n)"
   ]
  },
  {
   "cell_type": "code",
   "execution_count": 132,
   "id": "0d77cfd8",
   "metadata": {},
   "outputs": [
    {
     "name": "stdout",
     "output_type": "stream",
     "text": [
      "64\n"
     ]
    }
   ],
   "source": [
    "#method 2\n",
    "w, h = 256, 256\n",
    "I = np.random.randint(0,4,(h,w,3), dtype=np.uint8)\n",
    "\n",
    "# View each pixel as a single 24-bit integer, rather than three 8-bit bytes\n",
    "I24 = np.dot(I.astype(np.uint32),[1,256,65536])\n",
    "\n",
    "# Count unique colours\n",
    "n = len(np.unique(I24))\n",
    "print(n)"
   ]
  },
  {
   "cell_type": "markdown",
   "id": "732d14a3",
   "metadata": {},
   "source": [
    "#### 67. Considering a four dimensions array, how to get sum over the last two axis at once? (★★★)"
   ]
  },
  {
   "cell_type": "code",
   "execution_count": 135,
   "id": "91535400",
   "metadata": {
    "collapsed": true
   },
   "outputs": [
    {
     "name": "stdout",
     "output_type": "stream",
     "text": [
      "[[[[9 5 3 0]\n",
      "   [7 1 9 8]\n",
      "   [8 1 1 4]]\n",
      "\n",
      "  [[4 6 4 2]\n",
      "   [6 8 0 3]\n",
      "   [7 7 0 4]]\n",
      "\n",
      "  [[0 9 4 5]\n",
      "   [4 8 3 2]\n",
      "   [1 0 7 3]]\n",
      "\n",
      "  [[2 4 9 6]\n",
      "   [1 6 3 4]\n",
      "   [9 5 9 5]]]\n",
      "\n",
      "\n",
      " [[[9 7 6 8]\n",
      "   [1 0 8 3]\n",
      "   [1 2 9 8]]\n",
      "\n",
      "  [[7 3 4 8]\n",
      "   [1 3 9 2]\n",
      "   [0 4 7 5]]\n",
      "\n",
      "  [[2 8 9 0]\n",
      "   [5 5 3 5]\n",
      "   [2 8 6 8]]\n",
      "\n",
      "  [[7 3 0 3]\n",
      "   [7 1 1 8]\n",
      "   [0 7 8 9]]]\n",
      "\n",
      "\n",
      " [[[2 8 9 2]\n",
      "   [7 2 3 2]\n",
      "   [6 4 2 8]]\n",
      "\n",
      "  [[0 4 3 0]\n",
      "   [8 7 0 1]\n",
      "   [9 7 3 1]]\n",
      "\n",
      "  [[6 7 2 9]\n",
      "   [6 8 4 7]\n",
      "   [4 6 8 6]]\n",
      "\n",
      "  [[6 9 7 6]\n",
      "   [7 4 3 1]\n",
      "   [5 4 7 4]]]]\n",
      "[[56 51 46 63]\n",
      " [62 53 61 54]\n",
      " [55 43 73 63]]\n"
     ]
    }
   ],
   "source": [
    "A = np.random.randint(0,10,(3,4,3,4))\n",
    "print(A)\n",
    "# solution by passing a tuple of axes (introduced in numpy 1.7.0)\n",
    "sum = A.sum(axis=(-2,-1))\n",
    "print(sum)"
   ]
  },
  {
   "cell_type": "code",
   "execution_count": 136,
   "id": "95bc849d",
   "metadata": {},
   "outputs": [
    {
     "name": "stdout",
     "output_type": "stream",
     "text": [
      "[[56 51 46 63]\n",
      " [62 53 61 54]\n",
      " [55 43 73 63]]\n"
     ]
    }
   ],
   "source": [
    "# solution by flattening the last two dimensions into one\n",
    "# (useful for functions that don't accept tuples for axis argument)\n",
    "sum = A.reshape(A.shape[:-2] + (-1,)).sum(axis=-1)\n",
    "print(sum)"
   ]
  },
  {
   "cell_type": "markdown",
   "id": "72c99bed",
   "metadata": {},
   "source": [
    "#### 68. Considering a one-dimensional vector D, how to compute means of subsets of D using a vector S of same size describing subset  indices? (★★★)"
   ]
  },
  {
   "cell_type": "code",
   "execution_count": 138,
   "id": "d13d8c7f",
   "metadata": {},
   "outputs": [
    {
     "name": "stdout",
     "output_type": "stream",
     "text": [
      "[0.25079244 0.58522239 0.47164563 0.51996417 0.57792493 0.44067601\n",
      " 0.42565061 0.47722306 0.36106948 0.66430086]\n"
     ]
    }
   ],
   "source": [
    "\n",
    "# Author: Jaime Fernández del Río\n",
    "\n",
    "D = np.random.uniform(0,1,100)\n",
    "S = np.random.randint(0,10,100)\n",
    "D_sums = np.bincount(S, weights=D)\n",
    "D_counts = np.bincount(S)\n",
    "D_means = D_sums / D_counts\n",
    "print(D_means)"
   ]
  },
  {
   "cell_type": "code",
   "execution_count": 139,
   "id": "65cdf7ab",
   "metadata": {},
   "outputs": [
    {
     "name": "stdout",
     "output_type": "stream",
     "text": [
      "0    0.250792\n",
      "1    0.585222\n",
      "2    0.471646\n",
      "3    0.519964\n",
      "4    0.577925\n",
      "5    0.440676\n",
      "6    0.425651\n",
      "7    0.477223\n",
      "8    0.361069\n",
      "9    0.664301\n",
      "dtype: float64\n"
     ]
    }
   ],
   "source": [
    "# Pandas solution as a reference due to more intuitive code\n",
    "\n",
    "import pandas as pd\n",
    "print(pd.Series(D).groupby(S).mean())\n"
   ]
  },
  {
   "cell_type": "markdown",
   "id": "3d906bae",
   "metadata": {},
   "source": [
    "#### 69. How to get the diagonal of a dot product? (★★★)"
   ]
  },
  {
   "cell_type": "code",
   "execution_count": 140,
   "id": "96e1172b",
   "metadata": {},
   "outputs": [
    {
     "data": {
      "text/plain": [
       "array([0.72206215, 1.47508012, 1.68417892, 2.10976812, 1.87499726])"
      ]
     },
     "execution_count": 140,
     "metadata": {},
     "output_type": "execute_result"
    }
   ],
   "source": [
    "\n",
    "# Author: Mathieu Blondel\n",
    "\n",
    "A = np.random.uniform(0,1,(5,5))\n",
    "B = np.random.uniform(0,1,(5,5))\n",
    "\n",
    "# Slow version\n",
    "np.diag(np.dot(A, B))\n",
    "\n",
    "# Fast version\n",
    "np.sum(A * B.T, axis=1)\n",
    "\n",
    "# Faster version\n",
    "np.einsum(\"ij,ji->i\", A, B)\n"
   ]
  },
  {
   "cell_type": "markdown",
   "id": "6c101a10",
   "metadata": {},
   "source": [
    "#### 70. Consider the vector [1, 2, 3, 4, 5], how to build a new vector with 3 consecutive zeros interleaved between each value? (★★★)"
   ]
  },
  {
   "cell_type": "code",
   "execution_count": 141,
   "id": "9a17b961",
   "metadata": {},
   "outputs": [
    {
     "name": "stdout",
     "output_type": "stream",
     "text": [
      "[1. 0. 0. 0. 2. 0. 0. 0. 3. 0. 0. 0. 4. 0. 0. 0. 5.]\n"
     ]
    }
   ],
   "source": [
    "\n",
    "# Author: Warren Weckesser\n",
    "\n",
    "Z = np.array([1,2,3,4,5])\n",
    "nz = 3\n",
    "Z0 = np.zeros(len(Z) + (len(Z)-1)*(nz))\n",
    "Z0[::nz+1] = Z\n",
    "print(Z0)\n"
   ]
  },
  {
   "cell_type": "markdown",
   "id": "de8b3ba4",
   "metadata": {},
   "source": [
    "#### 71. Consider an array of dimension (5,5,3), how to mulitply it by an array with dimensions (5,5)? (★★★)"
   ]
  },
  {
   "cell_type": "code",
   "execution_count": 142,
   "id": "c38de6fe",
   "metadata": {},
   "outputs": [
    {
     "name": "stdout",
     "output_type": "stream",
     "text": [
      "[[[1. 1. 1.]\n",
      "  [1. 1. 1.]\n",
      "  [1. 1. 1.]\n",
      "  [1. 1. 1.]\n",
      "  [1. 1. 1.]]\n",
      "\n",
      " [[1. 1. 1.]\n",
      "  [1. 1. 1.]\n",
      "  [1. 1. 1.]\n",
      "  [1. 1. 1.]\n",
      "  [1. 1. 1.]]\n",
      "\n",
      " [[1. 1. 1.]\n",
      "  [1. 1. 1.]\n",
      "  [1. 1. 1.]\n",
      "  [1. 1. 1.]\n",
      "  [1. 1. 1.]]\n",
      "\n",
      " [[1. 1. 1.]\n",
      "  [1. 1. 1.]\n",
      "  [1. 1. 1.]\n",
      "  [1. 1. 1.]\n",
      "  [1. 1. 1.]]\n",
      "\n",
      " [[1. 1. 1.]\n",
      "  [1. 1. 1.]\n",
      "  [1. 1. 1.]\n",
      "  [1. 1. 1.]\n",
      "  [1. 1. 1.]]]\n",
      "[[2. 2. 2. 2. 2.]\n",
      " [2. 2. 2. 2. 2.]\n",
      " [2. 2. 2. 2. 2.]\n",
      " [2. 2. 2. 2. 2.]\n",
      " [2. 2. 2. 2. 2.]]\n",
      "[[[2. 2. 2.]\n",
      "  [2. 2. 2.]\n",
      "  [2. 2. 2.]\n",
      "  [2. 2. 2.]\n",
      "  [2. 2. 2.]]\n",
      "\n",
      " [[2. 2. 2.]\n",
      "  [2. 2. 2.]\n",
      "  [2. 2. 2.]\n",
      "  [2. 2. 2.]\n",
      "  [2. 2. 2.]]\n",
      "\n",
      " [[2. 2. 2.]\n",
      "  [2. 2. 2.]\n",
      "  [2. 2. 2.]\n",
      "  [2. 2. 2.]\n",
      "  [2. 2. 2.]]\n",
      "\n",
      " [[2. 2. 2.]\n",
      "  [2. 2. 2.]\n",
      "  [2. 2. 2.]\n",
      "  [2. 2. 2.]\n",
      "  [2. 2. 2.]]\n",
      "\n",
      " [[2. 2. 2.]\n",
      "  [2. 2. 2.]\n",
      "  [2. 2. 2.]\n",
      "  [2. 2. 2.]\n",
      "  [2. 2. 2.]]]\n"
     ]
    }
   ],
   "source": [
    "\n",
    "A = np.ones((5,5,3))\n",
    "print(A)\n",
    "B = 2*np.ones((5,5))\n",
    "print(B)\n",
    "print(A * B[:,:,None])\n"
   ]
  },
  {
   "cell_type": "markdown",
   "id": "47cf5207",
   "metadata": {},
   "source": [
    "#### 72. How to swap two rows of an array? (★★★)"
   ]
  },
  {
   "cell_type": "code",
   "execution_count": 143,
   "id": "63f2d08e",
   "metadata": {},
   "outputs": [
    {
     "name": "stdout",
     "output_type": "stream",
     "text": [
      "[[ 5  6  7  8  9]\n",
      " [ 0  1  2  3  4]\n",
      " [10 11 12 13 14]\n",
      " [15 16 17 18 19]\n",
      " [20 21 22 23 24]]\n"
     ]
    }
   ],
   "source": [
    "\n",
    "# Author: Eelco Hoogendoorn\n",
    "\n",
    "A = np.arange(25).reshape(5,5)\n",
    "A[[0,1]] = A[[1,0]]\n",
    "print(A)\n"
   ]
  },
  {
   "cell_type": "markdown",
   "id": "3c951a50",
   "metadata": {},
   "source": [
    "#### 73. Consider a set of 10 triplets describing 10 triangles (with shared vertices), find the set of unique line segments composing all the  triangles (★★★)"
   ]
  },
  {
   "cell_type": "code",
   "execution_count": 144,
   "id": "f5774d2b",
   "metadata": {},
   "outputs": [
    {
     "name": "stdout",
     "output_type": "stream",
     "text": [
      "[( 0, 32) ( 0, 67) ( 4, 29) ( 4, 52) ( 6, 45) ( 6, 88) ( 9, 22) ( 9, 39)\n",
      " (22, 39) (26, 29) (26, 38) (29, 38) (29, 52) (31, 65) (31, 93) (32, 67)\n",
      " (38, 55) (38, 59) (45, 53) (45, 77) (45, 88) (53, 77) (55, 59) (55, 66)\n",
      " (55, 74) (65, 93) (66, 74) (67, 74) (67, 90) (74, 90)]\n"
     ]
    }
   ],
   "source": [
    "\n",
    "# Author: Nicolas P. Rougier\n",
    "\n",
    "faces = np.random.randint(0,100,(10,3))\n",
    "F = np.roll(faces.repeat(2,axis=1),-1,axis=1)\n",
    "F = F.reshape(len(F)*3,2)\n",
    "F = np.sort(F,axis=1)\n",
    "G = F.view( dtype=[('p0',F.dtype),('p1',F.dtype)] )\n",
    "G = np.unique(G)\n",
    "print(G)\n"
   ]
  },
  {
   "cell_type": "markdown",
   "id": "446d57d7",
   "metadata": {},
   "source": [
    "#### 74. Given a sorted array C that corresponds to a bincount, how to produce an array A such that np.bincount(A) == C? (★★★)"
   ]
  },
  {
   "cell_type": "code",
   "execution_count": 145,
   "id": "30b68c44",
   "metadata": {},
   "outputs": [
    {
     "name": "stdout",
     "output_type": "stream",
     "text": [
      "[1 1 2 3 4 4 6]\n"
     ]
    }
   ],
   "source": [
    "\n",
    "# Author: Jaime Fernández del Río\n",
    "\n",
    "C = np.bincount([1,1,2,3,4,4,6])\n",
    "A = np.repeat(np.arange(len(C)), C)\n",
    "print(A)\n"
   ]
  },
  {
   "cell_type": "markdown",
   "id": "19c96c3b",
   "metadata": {},
   "source": [
    "#### 75. How to compute averages using a sliding window over an array? (★★★)"
   ]
  },
  {
   "cell_type": "code",
   "execution_count": 147,
   "id": "18fc7304",
   "metadata": {},
   "outputs": [
    {
     "name": "stdout",
     "output_type": "stream",
     "text": [
      "[ 1.  2.  3.  4.  5.  6.  7.  8.  9. 10. 11. 12. 13. 14. 15. 16. 17. 18.]\n"
     ]
    }
   ],
   "source": [
    "# Author: Jaime Fernández del Río\n",
    "\n",
    "def moving_average(a, n=3) :\n",
    "    ret = np.cumsum(a, dtype=float)\n",
    "    ret[n:] = ret[n:] - ret[:-n]\n",
    "    return ret[n - 1:] / n\n",
    "Z = np.arange(20)\n",
    "print(moving_average(Z, n=3))"
   ]
  },
  {
   "cell_type": "code",
   "execution_count": 148,
   "id": "ccddc3c9",
   "metadata": {},
   "outputs": [
    {
     "name": "stdout",
     "output_type": "stream",
     "text": [
      "[ 1.  2.  3.  4.  5.  6.  7.  8.  9. 10. 11. 12. 13. 14. 15. 16. 17. 18.]\n"
     ]
    }
   ],
   "source": [
    "# Author: Jeff Luo (@Jeff1999)\n",
    "# make sure your NumPy >= 1.20.0\n",
    "\n",
    "from numpy.lib.stride_tricks import sliding_window_view\n",
    "\n",
    "Z = np.arange(20)\n",
    "print(sliding_window_view(Z, window_shape=3).mean(axis=-1))"
   ]
  },
  {
   "cell_type": "markdown",
   "id": "5e8c5091",
   "metadata": {},
   "source": [
    "#### 76. Consider a one-dimensional array Z, build a two-dimensional array whose first row is (Z[0],Z[1],Z[2]) and each subsequent row is  shifted by 1 (last row should be (Z[-3],Z[-2],Z[-1]) (★★★)"
   ]
  },
  {
   "cell_type": "code",
   "execution_count": 150,
   "id": "9d0105c8",
   "metadata": {},
   "outputs": [
    {
     "name": "stdout",
     "output_type": "stream",
     "text": [
      "[[0 1 2]\n",
      " [1 2 3]\n",
      " [2 3 4]\n",
      " [3 4 5]\n",
      " [4 5 6]\n",
      " [5 6 7]\n",
      " [6 7 8]\n",
      " [7 8 9]]\n"
     ]
    }
   ],
   "source": [
    "# Author: Joe Kington / Erik Rigtorp\n",
    "from numpy.lib import stride_tricks\n",
    "\n",
    "def rolling(a, window):\n",
    "    shape = (a.size - window + 1, window)\n",
    "    strides = (a.strides[0], a.strides[0])\n",
    "    return stride_tricks.as_strided(a, shape=shape, strides=strides)\n",
    "Z = rolling(np.arange(10), 3)\n",
    "print(Z)"
   ]
  },
  {
   "cell_type": "code",
   "execution_count": 151,
   "id": "a91c8e2b",
   "metadata": {},
   "outputs": [
    {
     "name": "stdout",
     "output_type": "stream",
     "text": [
      "[[0 1 2]\n",
      " [1 2 3]\n",
      " [2 3 4]\n",
      " [3 4 5]\n",
      " [4 5 6]\n",
      " [5 6 7]\n",
      " [6 7 8]\n",
      " [7 8 9]]\n"
     ]
    }
   ],
   "source": [
    "# Author: Jeff Luo (@Jeff1999)\n",
    "\n",
    "Z = np.arange(10)\n",
    "print(sliding_window_view(Z, window_shape=3))"
   ]
  },
  {
   "cell_type": "markdown",
   "id": "6e1ecab4",
   "metadata": {},
   "source": [
    "#### 77. How to negate a boolean, or to change the sign of a float inplace? (★★★)"
   ]
  },
  {
   "cell_type": "code",
   "execution_count": 152,
   "id": "821e859d",
   "metadata": {},
   "outputs": [
    {
     "data": {
      "text/plain": [
       "array([-0.4045668 ,  0.42305713, -0.90183358, -0.76647999,  0.35102673,\n",
       "       -0.41096389, -0.52071037, -0.14699471, -0.77634707, -0.58236521,\n",
       "        0.64721503,  0.91047599, -0.25843193,  0.04537568,  0.96757146,\n",
       "        0.71412216, -0.60906114,  0.18368376,  0.70614894,  0.24735292,\n",
       "        0.08407364,  0.19871479,  0.20602131, -0.44457831,  0.10285872,\n",
       "        0.62735614, -0.23503388,  0.80931926,  0.18219551,  0.54596508,\n",
       "       -0.61848963, -0.94963679, -0.4812159 ,  0.51482445,  0.09887771,\n",
       "       -0.73677044, -0.02342571,  0.82061718,  0.94763858, -0.33269784,\n",
       "        0.73423228,  0.3670926 , -0.30757314, -0.65002128, -0.67836722,\n",
       "        0.21585701,  0.67156273,  0.89921222, -0.6939485 ,  0.16285136,\n",
       "       -0.71548203, -0.12987691, -0.28734162,  0.38102725,  0.88596725,\n",
       "       -0.59882193,  0.7944915 , -0.02291361, -0.20347133,  0.86844668,\n",
       "       -0.85948086,  0.56296837,  0.44477261, -0.84444007, -0.03262493,\n",
       "        0.09492532,  0.66490218,  0.62804626, -0.24760934, -0.27140323,\n",
       "       -0.99429115, -0.39139352,  0.59974776, -0.14895333,  0.41930089,\n",
       "       -0.31119799,  0.06368078,  0.54443071,  0.28623565, -0.48607876,\n",
       "        0.82473174, -0.77725243,  0.12950641,  0.0412309 , -0.65187202,\n",
       "       -0.01262099,  0.14732721,  0.0729921 ,  0.63066269,  0.353281  ,\n",
       "        0.81146083, -0.59043766, -0.59897328, -0.85124869, -0.14657246,\n",
       "       -0.35108988,  0.40939136, -0.39403769, -0.21624229, -0.45425462])"
      ]
     },
     "execution_count": 152,
     "metadata": {},
     "output_type": "execute_result"
    }
   ],
   "source": [
    "\n",
    "# Author: Nathaniel J. Smith\n",
    "\n",
    "Z = np.random.randint(0,2,100)\n",
    "np.logical_not(Z, out=Z)\n",
    "\n",
    "Z = np.random.uniform(-1.0,1.0,100)\n",
    "np.negative(Z, out=Z)\n"
   ]
  },
  {
   "cell_type": "markdown",
   "id": "d917a46e",
   "metadata": {},
   "source": [
    "#### 78. Consider 2 sets of points P0,P1 describing lines (2d) and a point p, how to compute distance from p to each line i (P0[i],P1[i])? (★★★)"
   ]
  },
  {
   "cell_type": "code",
   "execution_count": 153,
   "id": "d3926e8e",
   "metadata": {},
   "outputs": [
    {
     "name": "stdout",
     "output_type": "stream",
     "text": [
      "[7.28434735 3.13588618 8.98190688 4.79752923 4.72859467 0.41952374\n",
      " 5.17504824 3.99713676 4.17631027 3.21597928]\n"
     ]
    }
   ],
   "source": [
    "\n",
    "def distance(P0, P1, p):\n",
    "    T = P1 - P0\n",
    "    L = (T**2).sum(axis=1)\n",
    "    U = -((P0[:,0]-p[...,0])*T[:,0] + (P0[:,1]-p[...,1])*T[:,1]) / L\n",
    "    U = U.reshape(len(U),1)\n",
    "    D = P0 + U*T - p\n",
    "    return np.sqrt((D**2).sum(axis=1))\n",
    "\n",
    "P0 = np.random.uniform(-10,10,(10,2))\n",
    "P1 = np.random.uniform(-10,10,(10,2))\n",
    "p  = np.random.uniform(-10,10,( 1,2))\n",
    "print(distance(P0, P1, p))\n"
   ]
  },
  {
   "cell_type": "markdown",
   "id": "628b66ee",
   "metadata": {},
   "source": [
    "#### 79. Consider 2 sets of points P0,P1 describing lines (2d) and a set of points P, how to compute distance from each point j (P[j]) to each line i (P0[i],P1[i])? (★★★)"
   ]
  },
  {
   "cell_type": "code",
   "execution_count": 154,
   "id": "51ef31f2",
   "metadata": {},
   "outputs": [
    {
     "name": "stdout",
     "output_type": "stream",
     "text": [
      "[[ 7.9271529   6.8309564  11.9620554   3.37595944  7.9783867   1.11519006\n",
      "  12.96323016  1.3532205  13.61597101  8.87047048]\n",
      " [ 3.3714835   5.78875186  2.86934055  6.88300782 15.07549331  0.56934571\n",
      "   7.92816499  1.18823353 14.22791149  9.68232483]\n",
      " [ 7.89151719 11.54333757  4.64969914  9.77835646  7.43255839 17.43900011\n",
      "   2.30876702 16.21704977  5.19521205  9.96205557]\n",
      " [ 0.88476611  2.11248856  3.01509444  3.63283117 10.51436014  3.23682123\n",
      "   5.64544641  4.4172339  10.15298509  5.56584224]\n",
      " [ 4.66175668  6.81492986  4.53658491  5.68899344  1.63433054 12.54785075\n",
      "   0.66298357 12.05067477  0.03157055  4.68354669]\n",
      " [ 4.26626279  6.1200038   4.44716861  5.22847481 14.02508213  0.81943242\n",
      "   8.89813702  0.61405859 14.2872815   9.70856639]\n",
      " [ 5.93073874  3.14792899 13.28195338  8.06898131  2.33058478  2.76650348\n",
      "  11.24023299  1.67274694  9.3064369   4.49209739]\n",
      " [ 0.40403863  2.57740326  1.11039143  6.35272208 12.82383321  2.64536985\n",
      "   5.02797733  4.34467684 11.03325353  6.49508316]\n",
      " [ 6.19110973  3.71938944 12.95999318  7.19739659  3.31452307  2.15737859\n",
      "  11.45128932  1.22409389  9.99777423  5.19683126]\n",
      " [ 9.4718565   7.45124539  5.8269978   6.46470839  7.11894951 12.6002178\n",
      "   4.72283615 14.4589971   1.33617739  3.14535655]]\n"
     ]
    }
   ],
   "source": [
    "\n",
    "# Author: Italmassov Kuanysh\n",
    "\n",
    "# based on distance function from previous question\n",
    "P0 = np.random.uniform(-10, 10, (10,2))\n",
    "P1 = np.random.uniform(-10,10,(10,2))\n",
    "p = np.random.uniform(-10, 10, (10,2))\n",
    "print(np.array([distance(P0,P1,p_i) for p_i in p]))\n"
   ]
  },
  {
   "cell_type": "markdown",
   "id": "8a15f798",
   "metadata": {},
   "source": [
    "#### 80. Consider an arbitrary array, write a function that extract a subpart with a fixed shape and centered on a given element (pad with a `fill` value when necessary) (★★★)"
   ]
  },
  {
   "cell_type": "code",
   "execution_count": 155,
   "id": "77782cd3",
   "metadata": {},
   "outputs": [
    {
     "ename": "IndexError",
     "evalue": "only integers, slices (`:`), ellipsis (`...`), numpy.newaxis (`None`) and integer or boolean arrays are valid indices",
     "output_type": "error",
     "traceback": [
      "\u001b[1;31m---------------------------------------------------------------------------\u001b[0m",
      "\u001b[1;31mIndexError\u001b[0m                                Traceback (most recent call last)",
      "Input \u001b[1;32mIn [155]\u001b[0m, in \u001b[0;36m<cell line: 25>\u001b[1;34m()\u001b[0m\n\u001b[0;32m     23\u001b[0m r \u001b[38;5;241m=\u001b[39m [\u001b[38;5;28mslice\u001b[39m(start,stop) \u001b[38;5;28;01mfor\u001b[39;00m start,stop \u001b[38;5;129;01min\u001b[39;00m \u001b[38;5;28mzip\u001b[39m(R_start,R_stop)]\n\u001b[0;32m     24\u001b[0m z \u001b[38;5;241m=\u001b[39m [\u001b[38;5;28mslice\u001b[39m(start,stop) \u001b[38;5;28;01mfor\u001b[39;00m start,stop \u001b[38;5;129;01min\u001b[39;00m \u001b[38;5;28mzip\u001b[39m(Z_start,Z_stop)]\n\u001b[1;32m---> 25\u001b[0m R[r] \u001b[38;5;241m=\u001b[39m \u001b[43mZ\u001b[49m\u001b[43m[\u001b[49m\u001b[43mz\u001b[49m\u001b[43m]\u001b[49m\n\u001b[0;32m     26\u001b[0m \u001b[38;5;28mprint\u001b[39m(Z)\n\u001b[0;32m     27\u001b[0m \u001b[38;5;28mprint\u001b[39m(R)\n",
      "\u001b[1;31mIndexError\u001b[0m: only integers, slices (`:`), ellipsis (`...`), numpy.newaxis (`None`) and integer or boolean arrays are valid indices"
     ]
    }
   ],
   "source": [
    "\n",
    "# Author: Nicolas Rougier\n",
    "\n",
    "Z = np.random.randint(0,10,(10,10))\n",
    "shape = (5,5)\n",
    "fill  = 0\n",
    "position = (1,1)\n",
    "\n",
    "R = np.ones(shape, dtype=Z.dtype)*fill\n",
    "P  = np.array(list(position)).astype(int)\n",
    "Rs = np.array(list(R.shape)).astype(int)\n",
    "Zs = np.array(list(Z.shape)).astype(int)\n",
    "\n",
    "R_start = np.zeros((len(shape),)).astype(int)\n",
    "R_stop  = np.array(list(shape)).astype(int)\n",
    "Z_start = (P-Rs//2)\n",
    "Z_stop  = (P+Rs//2)+Rs%2\n",
    "\n",
    "R_start = (R_start - np.minimum(Z_start,0)).tolist()\n",
    "Z_start = (np.maximum(Z_start,0)).tolist()\n",
    "R_stop = np.maximum(R_start, (R_stop - np.maximum(Z_stop-Zs,0))).tolist()\n",
    "Z_stop = (np.minimum(Z_stop,Zs)).tolist()\n",
    "\n",
    "r = [slice(start,stop) for start,stop in zip(R_start,R_stop)]\n",
    "z = [slice(start,stop) for start,stop in zip(Z_start,Z_stop)]\n",
    "R[r] = Z[z]\n",
    "print(Z)\n",
    "print(R)\n"
   ]
  },
  {
   "cell_type": "markdown",
   "id": "c840b275",
   "metadata": {},
   "source": [
    "#### 81. Consider an array Z = [1,2,3,4,5,6,7,8,9,10,11,12,13,14], how to generate an array R = [[1,2,3,4], [2,3,4,5], [3,4,5,6], ..., [11,12,13,14]]? (★★★)"
   ]
  },
  {
   "cell_type": "code",
   "execution_count": 157,
   "id": "3a56259c",
   "metadata": {},
   "outputs": [
    {
     "name": "stdout",
     "output_type": "stream",
     "text": [
      "[[ 1  2  3  4]\n",
      " [ 2  3  4  5]\n",
      " [ 3  4  5  6]\n",
      " [ 4  5  6  7]\n",
      " [ 5  6  7  8]\n",
      " [ 6  7  8  9]\n",
      " [ 7  8  9 10]\n",
      " [ 8  9 10 11]\n",
      " [ 9 10 11 12]\n",
      " [10 11 12 13]\n",
      " [11 12 13 14]]\n"
     ]
    }
   ],
   "source": [
    "# Author: Stefan van der Walt\n",
    "\n",
    "Z = np.arange(1,15,dtype=np.uint32)\n",
    "R = stride_tricks.as_strided(Z,(11,4),(4,4))\n",
    "print(R)"
   ]
  },
  {
   "cell_type": "code",
   "execution_count": 158,
   "id": "e5e286ac",
   "metadata": {},
   "outputs": [
    {
     "name": "stdout",
     "output_type": "stream",
     "text": [
      "[[ 1  2  3  4]\n",
      " [ 2  3  4  5]\n",
      " [ 3  4  5  6]\n",
      " [ 4  5  6  7]\n",
      " [ 5  6  7  8]\n",
      " [ 6  7  8  9]\n",
      " [ 7  8  9 10]\n",
      " [ 8  9 10 11]\n",
      " [ 9 10 11 12]\n",
      " [10 11 12 13]\n",
      " [11 12 13 14]]\n"
     ]
    }
   ],
   "source": [
    "# Author: Jeff Luo (@Jeff1999)\n",
    "\n",
    "Z = np.arange(1, 15, dtype=np.uint32)\n",
    "print(sliding_window_view(Z, window_shape=4))"
   ]
  },
  {
   "cell_type": "markdown",
   "id": "58577011",
   "metadata": {},
   "source": [
    "#### 82. Compute a matrix rank (★★★)"
   ]
  },
  {
   "cell_type": "code",
   "execution_count": 159,
   "id": "4d67077e",
   "metadata": {},
   "outputs": [
    {
     "name": "stdout",
     "output_type": "stream",
     "text": [
      "10\n"
     ]
    }
   ],
   "source": [
    "\n",
    "# Author: Stefan van der Walt\n",
    "\n",
    "Z = np.random.uniform(0,1,(10,10))\n",
    "U, S, V = np.linalg.svd(Z) # Singular Value Decomposition\n",
    "rank = np.sum(S > 1e-10)\n",
    "print(rank)"
   ]
  },
  {
   "cell_type": "code",
   "execution_count": 160,
   "id": "45f6a1bd",
   "metadata": {},
   "outputs": [
    {
     "name": "stdout",
     "output_type": "stream",
     "text": [
      "10\n"
     ]
    }
   ],
   "source": [
    "# alternative solution:\n",
    "# Author: Jeff Luo (@Jeff1999)\n",
    "\n",
    "rank = np.linalg.matrix_rank(Z)\n",
    "print(rank)"
   ]
  },
  {
   "cell_type": "markdown",
   "id": "b5377b9d",
   "metadata": {},
   "source": [
    "#### 83. How to find the most frequent value in an array?"
   ]
  },
  {
   "cell_type": "code",
   "execution_count": 161,
   "id": "2bc2fa0d",
   "metadata": {},
   "outputs": [
    {
     "name": "stdout",
     "output_type": "stream",
     "text": [
      "2\n"
     ]
    }
   ],
   "source": [
    "\n",
    "Z = np.random.randint(0,10,50)\n",
    "print(np.bincount(Z).argmax())\n"
   ]
  },
  {
   "cell_type": "markdown",
   "id": "42696802",
   "metadata": {},
   "source": [
    "#### 84. Extract all the contiguous 3x3 blocks from a random 10x10 matrix (★★★)"
   ]
  },
  {
   "cell_type": "code",
   "execution_count": 162,
   "id": "4aa08875",
   "metadata": {
    "collapsed": true
   },
   "outputs": [
    {
     "name": "stdout",
     "output_type": "stream",
     "text": [
      "[[[[2 0 4]\n",
      "   [2 0 2]\n",
      "   [1 3 4]]\n",
      "\n",
      "  [[0 4 4]\n",
      "   [0 2 1]\n",
      "   [3 4 3]]\n",
      "\n",
      "  [[4 4 2]\n",
      "   [2 1 0]\n",
      "   [4 3 1]]\n",
      "\n",
      "  [[4 2 3]\n",
      "   [1 0 1]\n",
      "   [3 1 4]]\n",
      "\n",
      "  [[2 3 2]\n",
      "   [0 1 4]\n",
      "   [1 4 1]]\n",
      "\n",
      "  [[3 2 4]\n",
      "   [1 4 1]\n",
      "   [4 1 3]]\n",
      "\n",
      "  [[2 4 1]\n",
      "   [4 1 4]\n",
      "   [1 3 2]]\n",
      "\n",
      "  [[4 1 0]\n",
      "   [1 4 0]\n",
      "   [3 2 0]]]\n",
      "\n",
      "\n",
      " [[[2 0 2]\n",
      "   [1 3 4]\n",
      "   [2 2 3]]\n",
      "\n",
      "  [[0 2 1]\n",
      "   [3 4 3]\n",
      "   [2 3 3]]\n",
      "\n",
      "  [[2 1 0]\n",
      "   [4 3 1]\n",
      "   [3 3 4]]\n",
      "\n",
      "  [[1 0 1]\n",
      "   [3 1 4]\n",
      "   [3 4 4]]\n",
      "\n",
      "  [[0 1 4]\n",
      "   [1 4 1]\n",
      "   [4 4 4]]\n",
      "\n",
      "  [[1 4 1]\n",
      "   [4 1 3]\n",
      "   [4 4 0]]\n",
      "\n",
      "  [[4 1 4]\n",
      "   [1 3 2]\n",
      "   [4 0 2]]\n",
      "\n",
      "  [[1 4 0]\n",
      "   [3 2 0]\n",
      "   [0 2 1]]]\n",
      "\n",
      "\n",
      " [[[1 3 4]\n",
      "   [2 2 3]\n",
      "   [4 3 3]]\n",
      "\n",
      "  [[3 4 3]\n",
      "   [2 3 3]\n",
      "   [3 3 4]]\n",
      "\n",
      "  [[4 3 1]\n",
      "   [3 3 4]\n",
      "   [3 4 3]]\n",
      "\n",
      "  [[3 1 4]\n",
      "   [3 4 4]\n",
      "   [4 3 3]]\n",
      "\n",
      "  [[1 4 1]\n",
      "   [4 4 4]\n",
      "   [3 3 3]]\n",
      "\n",
      "  [[4 1 3]\n",
      "   [4 4 0]\n",
      "   [3 3 3]]\n",
      "\n",
      "  [[1 3 2]\n",
      "   [4 0 2]\n",
      "   [3 3 4]]\n",
      "\n",
      "  [[3 2 0]\n",
      "   [0 2 1]\n",
      "   [3 4 0]]]\n",
      "\n",
      "\n",
      " [[[2 2 3]\n",
      "   [4 3 3]\n",
      "   [3 3 4]]\n",
      "\n",
      "  [[2 3 3]\n",
      "   [3 3 4]\n",
      "   [3 4 1]]\n",
      "\n",
      "  [[3 3 4]\n",
      "   [3 4 3]\n",
      "   [4 1 3]]\n",
      "\n",
      "  [[3 4 4]\n",
      "   [4 3 3]\n",
      "   [1 3 1]]\n",
      "\n",
      "  [[4 4 4]\n",
      "   [3 3 3]\n",
      "   [3 1 4]]\n",
      "\n",
      "  [[4 4 0]\n",
      "   [3 3 3]\n",
      "   [1 4 2]]\n",
      "\n",
      "  [[4 0 2]\n",
      "   [3 3 4]\n",
      "   [4 2 0]]\n",
      "\n",
      "  [[0 2 1]\n",
      "   [3 4 0]\n",
      "   [2 0 0]]]\n",
      "\n",
      "\n",
      " [[[4 3 3]\n",
      "   [3 3 4]\n",
      "   [4 2 0]]\n",
      "\n",
      "  [[3 3 4]\n",
      "   [3 4 1]\n",
      "   [2 0 2]]\n",
      "\n",
      "  [[3 4 3]\n",
      "   [4 1 3]\n",
      "   [0 2 0]]\n",
      "\n",
      "  [[4 3 3]\n",
      "   [1 3 1]\n",
      "   [2 0 0]]\n",
      "\n",
      "  [[3 3 3]\n",
      "   [3 1 4]\n",
      "   [0 0 3]]\n",
      "\n",
      "  [[3 3 3]\n",
      "   [1 4 2]\n",
      "   [0 3 2]]\n",
      "\n",
      "  [[3 3 4]\n",
      "   [4 2 0]\n",
      "   [3 2 0]]\n",
      "\n",
      "  [[3 4 0]\n",
      "   [2 0 0]\n",
      "   [2 0 0]]]\n",
      "\n",
      "\n",
      " [[[3 3 4]\n",
      "   [4 2 0]\n",
      "   [1 2 0]]\n",
      "\n",
      "  [[3 4 1]\n",
      "   [2 0 2]\n",
      "   [2 0 2]]\n",
      "\n",
      "  [[4 1 3]\n",
      "   [0 2 0]\n",
      "   [0 2 3]]\n",
      "\n",
      "  [[1 3 1]\n",
      "   [2 0 0]\n",
      "   [2 3 3]]\n",
      "\n",
      "  [[3 1 4]\n",
      "   [0 0 3]\n",
      "   [3 3 4]]\n",
      "\n",
      "  [[1 4 2]\n",
      "   [0 3 2]\n",
      "   [3 4 4]]\n",
      "\n",
      "  [[4 2 0]\n",
      "   [3 2 0]\n",
      "   [4 4 4]]\n",
      "\n",
      "  [[2 0 0]\n",
      "   [2 0 0]\n",
      "   [4 4 4]]]\n",
      "\n",
      "\n",
      " [[[4 2 0]\n",
      "   [1 2 0]\n",
      "   [2 0 4]]\n",
      "\n",
      "  [[2 0 2]\n",
      "   [2 0 2]\n",
      "   [0 4 0]]\n",
      "\n",
      "  [[0 2 0]\n",
      "   [0 2 3]\n",
      "   [4 0 3]]\n",
      "\n",
      "  [[2 0 0]\n",
      "   [2 3 3]\n",
      "   [0 3 4]]\n",
      "\n",
      "  [[0 0 3]\n",
      "   [3 3 4]\n",
      "   [3 4 2]]\n",
      "\n",
      "  [[0 3 2]\n",
      "   [3 4 4]\n",
      "   [4 2 3]]\n",
      "\n",
      "  [[3 2 0]\n",
      "   [4 4 4]\n",
      "   [2 3 2]]\n",
      "\n",
      "  [[2 0 0]\n",
      "   [4 4 4]\n",
      "   [3 2 3]]]\n",
      "\n",
      "\n",
      " [[[1 2 0]\n",
      "   [2 0 4]\n",
      "   [2 0 3]]\n",
      "\n",
      "  [[2 0 2]\n",
      "   [0 4 0]\n",
      "   [0 3 1]]\n",
      "\n",
      "  [[0 2 3]\n",
      "   [4 0 3]\n",
      "   [3 1 1]]\n",
      "\n",
      "  [[2 3 3]\n",
      "   [0 3 4]\n",
      "   [1 1 2]]\n",
      "\n",
      "  [[3 3 4]\n",
      "   [3 4 2]\n",
      "   [1 2 2]]\n",
      "\n",
      "  [[3 4 4]\n",
      "   [4 2 3]\n",
      "   [2 2 2]]\n",
      "\n",
      "  [[4 4 4]\n",
      "   [2 3 2]\n",
      "   [2 2 1]]\n",
      "\n",
      "  [[4 4 4]\n",
      "   [3 2 3]\n",
      "   [2 1 4]]]]\n"
     ]
    }
   ],
   "source": [
    "# Author: Chris Barker\n",
    "\n",
    "Z = np.random.randint(0,5,(10,10))\n",
    "n = 3\n",
    "i = 1 + (Z.shape[0]-3)\n",
    "j = 1 + (Z.shape[1]-3)\n",
    "C = stride_tricks.as_strided(Z, shape=(i, j, n, n), strides=Z.strides + Z.strides)\n",
    "print(C)"
   ]
  },
  {
   "cell_type": "code",
   "execution_count": 163,
   "id": "57193d5f",
   "metadata": {
    "collapsed": true
   },
   "outputs": [
    {
     "name": "stdout",
     "output_type": "stream",
     "text": [
      "[[[[1 3 4]\n",
      "   [2 2 3]\n",
      "   [4 1 2]]\n",
      "\n",
      "  [[3 4 2]\n",
      "   [2 3 4]\n",
      "   [1 2 3]]\n",
      "\n",
      "  [[4 2 0]\n",
      "   [3 4 4]\n",
      "   [2 3 1]]\n",
      "\n",
      "  [[2 0 2]\n",
      "   [4 4 4]\n",
      "   [3 1 4]]\n",
      "\n",
      "  [[0 2 0]\n",
      "   [4 4 3]\n",
      "   [1 4 4]]\n",
      "\n",
      "  [[2 0 0]\n",
      "   [4 3 1]\n",
      "   [4 4 1]]\n",
      "\n",
      "  [[0 0 0]\n",
      "   [3 1 2]\n",
      "   [4 1 3]]\n",
      "\n",
      "  [[0 0 1]\n",
      "   [1 2 0]\n",
      "   [1 3 0]]]\n",
      "\n",
      "\n",
      " [[[2 2 3]\n",
      "   [4 1 2]\n",
      "   [0 0 1]]\n",
      "\n",
      "  [[2 3 4]\n",
      "   [1 2 3]\n",
      "   [0 1 0]]\n",
      "\n",
      "  [[3 4 4]\n",
      "   [2 3 1]\n",
      "   [1 0 3]]\n",
      "\n",
      "  [[4 4 4]\n",
      "   [3 1 4]\n",
      "   [0 3 1]]\n",
      "\n",
      "  [[4 4 3]\n",
      "   [1 4 4]\n",
      "   [3 1 3]]\n",
      "\n",
      "  [[4 3 1]\n",
      "   [4 4 1]\n",
      "   [1 3 0]]\n",
      "\n",
      "  [[3 1 2]\n",
      "   [4 1 3]\n",
      "   [3 0 3]]\n",
      "\n",
      "  [[1 2 0]\n",
      "   [1 3 0]\n",
      "   [0 3 0]]]\n",
      "\n",
      "\n",
      " [[[4 1 2]\n",
      "   [0 0 1]\n",
      "   [1 4 2]]\n",
      "\n",
      "  [[1 2 3]\n",
      "   [0 1 0]\n",
      "   [4 2 4]]\n",
      "\n",
      "  [[2 3 1]\n",
      "   [1 0 3]\n",
      "   [2 4 1]]\n",
      "\n",
      "  [[3 1 4]\n",
      "   [0 3 1]\n",
      "   [4 1 1]]\n",
      "\n",
      "  [[1 4 4]\n",
      "   [3 1 3]\n",
      "   [1 1 0]]\n",
      "\n",
      "  [[4 4 1]\n",
      "   [1 3 0]\n",
      "   [1 0 0]]\n",
      "\n",
      "  [[4 1 3]\n",
      "   [3 0 3]\n",
      "   [0 0 0]]\n",
      "\n",
      "  [[1 3 0]\n",
      "   [0 3 0]\n",
      "   [0 0 4]]]\n",
      "\n",
      "\n",
      " [[[0 0 1]\n",
      "   [1 4 2]\n",
      "   [3 4 2]]\n",
      "\n",
      "  [[0 1 0]\n",
      "   [4 2 4]\n",
      "   [4 2 4]]\n",
      "\n",
      "  [[1 0 3]\n",
      "   [2 4 1]\n",
      "   [2 4 2]]\n",
      "\n",
      "  [[0 3 1]\n",
      "   [4 1 1]\n",
      "   [4 2 0]]\n",
      "\n",
      "  [[3 1 3]\n",
      "   [1 1 0]\n",
      "   [2 0 4]]\n",
      "\n",
      "  [[1 3 0]\n",
      "   [1 0 0]\n",
      "   [0 4 4]]\n",
      "\n",
      "  [[3 0 3]\n",
      "   [0 0 0]\n",
      "   [4 4 4]]\n",
      "\n",
      "  [[0 3 0]\n",
      "   [0 0 4]\n",
      "   [4 4 2]]]\n",
      "\n",
      "\n",
      " [[[1 4 2]\n",
      "   [3 4 2]\n",
      "   [1 1 1]]\n",
      "\n",
      "  [[4 2 4]\n",
      "   [4 2 4]\n",
      "   [1 1 3]]\n",
      "\n",
      "  [[2 4 1]\n",
      "   [2 4 2]\n",
      "   [1 3 1]]\n",
      "\n",
      "  [[4 1 1]\n",
      "   [4 2 0]\n",
      "   [3 1 3]]\n",
      "\n",
      "  [[1 1 0]\n",
      "   [2 0 4]\n",
      "   [1 3 2]]\n",
      "\n",
      "  [[1 0 0]\n",
      "   [0 4 4]\n",
      "   [3 2 2]]\n",
      "\n",
      "  [[0 0 0]\n",
      "   [4 4 4]\n",
      "   [2 2 4]]\n",
      "\n",
      "  [[0 0 4]\n",
      "   [4 4 2]\n",
      "   [2 4 4]]]\n",
      "\n",
      "\n",
      " [[[3 4 2]\n",
      "   [1 1 1]\n",
      "   [3 2 3]]\n",
      "\n",
      "  [[4 2 4]\n",
      "   [1 1 3]\n",
      "   [2 3 3]]\n",
      "\n",
      "  [[2 4 2]\n",
      "   [1 3 1]\n",
      "   [3 3 4]]\n",
      "\n",
      "  [[4 2 0]\n",
      "   [3 1 3]\n",
      "   [3 4 1]]\n",
      "\n",
      "  [[2 0 4]\n",
      "   [1 3 2]\n",
      "   [4 1 1]]\n",
      "\n",
      "  [[0 4 4]\n",
      "   [3 2 2]\n",
      "   [1 1 0]]\n",
      "\n",
      "  [[4 4 4]\n",
      "   [2 2 4]\n",
      "   [1 0 4]]\n",
      "\n",
      "  [[4 4 2]\n",
      "   [2 4 4]\n",
      "   [0 4 4]]]\n",
      "\n",
      "\n",
      " [[[1 1 1]\n",
      "   [3 2 3]\n",
      "   [0 0 0]]\n",
      "\n",
      "  [[1 1 3]\n",
      "   [2 3 3]\n",
      "   [0 0 0]]\n",
      "\n",
      "  [[1 3 1]\n",
      "   [3 3 4]\n",
      "   [0 0 1]]\n",
      "\n",
      "  [[3 1 3]\n",
      "   [3 4 1]\n",
      "   [0 1 3]]\n",
      "\n",
      "  [[1 3 2]\n",
      "   [4 1 1]\n",
      "   [1 3 1]]\n",
      "\n",
      "  [[3 2 2]\n",
      "   [1 1 0]\n",
      "   [3 1 1]]\n",
      "\n",
      "  [[2 2 4]\n",
      "   [1 0 4]\n",
      "   [1 1 2]]\n",
      "\n",
      "  [[2 4 4]\n",
      "   [0 4 4]\n",
      "   [1 2 4]]]\n",
      "\n",
      "\n",
      " [[[3 2 3]\n",
      "   [0 0 0]\n",
      "   [1 0 3]]\n",
      "\n",
      "  [[2 3 3]\n",
      "   [0 0 0]\n",
      "   [0 3 4]]\n",
      "\n",
      "  [[3 3 4]\n",
      "   [0 0 1]\n",
      "   [3 4 3]]\n",
      "\n",
      "  [[3 4 1]\n",
      "   [0 1 3]\n",
      "   [4 3 2]]\n",
      "\n",
      "  [[4 1 1]\n",
      "   [1 3 1]\n",
      "   [3 2 1]]\n",
      "\n",
      "  [[1 1 0]\n",
      "   [3 1 1]\n",
      "   [2 1 4]]\n",
      "\n",
      "  [[1 0 4]\n",
      "   [1 1 2]\n",
      "   [1 4 1]]\n",
      "\n",
      "  [[0 4 4]\n",
      "   [1 2 4]\n",
      "   [4 1 2]]]]\n"
     ]
    }
   ],
   "source": [
    "# Author: Jeff Luo (@Jeff1999)\n",
    "\n",
    "Z = np.random.randint(0,5,(10,10))\n",
    "print(sliding_window_view(Z, window_shape=(3, 3)))"
   ]
  },
  {
   "cell_type": "markdown",
   "id": "81405d88",
   "metadata": {},
   "source": [
    "#### 85. Create a 2D array subclass such that Z[i,j] == Z[j,i] (★★★)"
   ]
  },
  {
   "cell_type": "code",
   "execution_count": 164,
   "id": "8b5b2042",
   "metadata": {},
   "outputs": [
    {
     "name": "stdout",
     "output_type": "stream",
     "text": [
      "[[ 0 13  8 12 13]\n",
      " [13  9 12  9 10]\n",
      " [ 8 12  2 42 15]\n",
      " [12  9 42  4 11]\n",
      " [13 10 15 11  3]]\n"
     ]
    }
   ],
   "source": [
    "\n",
    "# Author: Eric O. Lebigot\n",
    "# Note: only works for 2d array and value setting using indices\n",
    "\n",
    "class Symetric(np.ndarray):\n",
    "    def __setitem__(self, index, value):\n",
    "        i,j = index\n",
    "        super(Symetric, self).__setitem__((i,j), value)\n",
    "        super(Symetric, self).__setitem__((j,i), value)\n",
    "\n",
    "def symetric(Z):\n",
    "    return np.asarray(Z + Z.T - np.diag(Z.diagonal())).view(Symetric)\n",
    "\n",
    "S = symetric(np.random.randint(0,10,(5,5)))\n",
    "S[2,3] = 42\n",
    "print(S)\n"
   ]
  },
  {
   "cell_type": "markdown",
   "id": "f2097284",
   "metadata": {},
   "source": [
    "#### 86. Consider a set of p matrices wich shape (n,n) and a set of p vectors with shape (n,1). How to compute the sum of of the p matrix products at once? (result has shape (n,1)) (★★★)"
   ]
  },
  {
   "cell_type": "code",
   "execution_count": 165,
   "id": "06adf546",
   "metadata": {},
   "outputs": [
    {
     "name": "stdout",
     "output_type": "stream",
     "text": [
      "[[200.]\n",
      " [200.]\n",
      " [200.]\n",
      " [200.]\n",
      " [200.]\n",
      " [200.]\n",
      " [200.]\n",
      " [200.]\n",
      " [200.]\n",
      " [200.]\n",
      " [200.]\n",
      " [200.]\n",
      " [200.]\n",
      " [200.]\n",
      " [200.]\n",
      " [200.]\n",
      " [200.]\n",
      " [200.]\n",
      " [200.]\n",
      " [200.]]\n"
     ]
    }
   ],
   "source": [
    "\n",
    "# Author: Stefan van der Walt\n",
    "\n",
    "p, n = 10, 20\n",
    "M = np.ones((p,n,n))\n",
    "V = np.ones((p,n,1))\n",
    "S = np.tensordot(M, V, axes=[[0, 2], [0, 1]])\n",
    "print(S)\n",
    "\n",
    "# It works, because:\n",
    "# M is (p,n,n)\n",
    "# V is (p,n,1)\n",
    "# Thus, summing over the paired axes 0 and 0 (of M and V independently),\n",
    "# and 2 and 1, to remain with a (n,1) vector.\n"
   ]
  },
  {
   "cell_type": "markdown",
   "id": "083fc337",
   "metadata": {},
   "source": [
    "#### 87. Consider a 16x16 array, how to get the block-sum (block size is 4x4)? (★★★)"
   ]
  },
  {
   "cell_type": "code",
   "execution_count": 167,
   "id": "2e789655",
   "metadata": {},
   "outputs": [
    {
     "name": "stdout",
     "output_type": "stream",
     "text": [
      "[[16. 16. 16. 16.]\n",
      " [16. 16. 16. 16.]\n",
      " [16. 16. 16. 16.]\n",
      " [16. 16. 16. 16.]]\n"
     ]
    }
   ],
   "source": [
    "# Author: Robert Kern\n",
    "\n",
    "Z = np.ones((16,16))\n",
    "k = 4\n",
    "S = np.add.reduceat(np.add.reduceat(Z, np.arange(0, Z.shape[0], k), axis=0),\n",
    "                                       np.arange(0, Z.shape[1], k), axis=1)\n",
    "print(S)"
   ]
  },
  {
   "cell_type": "code",
   "execution_count": 168,
   "id": "d0bf4acf",
   "metadata": {},
   "outputs": [
    {
     "name": "stdout",
     "output_type": "stream",
     "text": [
      "[[16. 16. 16. 16.]\n",
      " [16. 16. 16. 16.]\n",
      " [16. 16. 16. 16.]\n",
      " [16. 16. 16. 16.]]\n"
     ]
    }
   ],
   "source": [
    "# alternative solution:\n",
    "# Author: Sebastian Wallkötter (@FirefoxMetzger)\n",
    "\n",
    "Z = np.ones((16,16))\n",
    "k = 4\n",
    "\n",
    "windows = np.lib.stride_tricks.sliding_window_view(Z, (k, k))\n",
    "S = windows[::k, ::k, ...].sum(axis=(-2, -1))\n",
    "\n",
    "# Author: Jeff Luo (@Jeff1999)\n",
    "\n",
    "Z = np.ones((16, 16))\n",
    "k = 4\n",
    "print(sliding_window_view(Z, window_shape=(k, k))[::k, ::k].sum(axis=(-2, -1)))"
   ]
  },
  {
   "cell_type": "markdown",
   "id": "719d54b3",
   "metadata": {},
   "source": [
    "#### 88. How to implement the Game of Life using numpy arrays? (★★★)"
   ]
  },
  {
   "cell_type": "code",
   "execution_count": 169,
   "id": "c165e518",
   "metadata": {
    "collapsed": true
   },
   "outputs": [
    {
     "name": "stdout",
     "output_type": "stream",
     "text": [
      "[[0 0 0 0 0 0 0 0 0 0 0 0 0 0 0 0 0 0 0 0 0 0 0 0 0 0 0 0 0 0 0 0 0 0 0 0\n",
      "  0 0 0 0 0 0 0 0 0 0 0 0 0 0]\n",
      " [0 0 0 0 0 0 0 0 0 0 0 0 0 0 0 0 0 0 0 0 0 0 0 0 0 0 0 0 0 1 0 0 0 0 0 0\n",
      "  0 0 0 0 0 0 0 0 0 0 0 0 0 0]\n",
      " [0 0 0 0 0 0 0 0 0 0 0 0 0 0 0 0 0 0 0 0 0 0 0 0 0 0 0 0 1 0 1 0 0 0 0 0\n",
      "  0 0 0 0 0 0 0 0 0 0 0 0 0 0]\n",
      " [0 0 0 0 0 0 0 0 0 0 0 0 0 0 0 0 0 0 0 0 0 0 0 0 0 0 0 0 0 1 1 0 0 0 0 0\n",
      "  0 1 1 0 0 0 0 0 0 0 0 0 0 0]\n",
      " [0 0 0 0 0 0 0 0 0 0 0 0 0 0 0 0 0 0 0 0 0 0 0 0 1 1 0 0 0 0 0 0 0 0 0 0\n",
      "  0 1 1 0 0 0 0 0 0 0 0 0 0 0]\n",
      " [0 0 0 0 0 0 0 0 0 0 0 0 0 0 0 0 0 0 0 0 0 0 0 0 0 1 1 0 0 0 0 0 0 0 0 0\n",
      "  0 0 0 0 0 0 0 0 0 0 0 0 0 0]\n",
      " [0 0 0 0 0 0 0 0 0 0 0 0 0 0 0 0 0 1 1 0 0 0 0 0 1 0 0 0 0 0 0 0 0 0 0 0\n",
      "  0 0 0 0 0 0 0 0 0 0 0 0 0 0]\n",
      " [0 0 0 0 0 0 0 0 0 0 0 0 0 0 1 1 0 1 0 0 0 0 0 0 0 0 0 0 0 0 0 0 0 0 0 0\n",
      "  0 0 0 0 0 0 0 0 0 0 0 0 0 0]\n",
      " [0 0 0 0 0 0 0 0 0 0 0 0 0 0 1 1 0 0 0 0 0 0 0 0 0 0 0 0 0 0 0 0 0 0 0 0\n",
      "  0 0 0 0 0 0 0 0 0 0 0 0 0 0]\n",
      " [0 0 0 0 0 0 0 0 0 0 0 0 1 0 0 1 0 0 0 0 0 0 0 0 0 0 0 0 0 0 0 0 0 0 0 0\n",
      "  0 0 0 0 0 0 0 0 0 0 0 0 0 0]\n",
      " [0 0 0 0 0 0 0 0 0 0 0 0 0 0 1 0 0 0 0 0 0 0 0 0 0 0 0 0 0 0 0 0 0 0 0 0\n",
      "  0 0 0 0 0 0 0 1 1 0 0 0 0 0]\n",
      " [0 0 0 0 0 0 0 0 0 0 0 0 1 0 0 0 0 0 0 0 0 0 0 0 0 0 0 0 0 0 0 0 0 0 0 0\n",
      "  0 0 0 0 0 0 0 1 1 0 0 0 0 0]\n",
      " [0 0 0 0 0 0 0 0 0 0 0 0 1 0 1 0 0 0 0 0 0 0 0 0 0 0 0 0 0 0 0 0 0 0 0 0\n",
      "  0 0 0 0 0 0 0 0 0 0 0 0 0 0]\n",
      " [0 0 0 0 0 0 0 0 0 0 0 1 1 1 1 1 0 0 0 0 0 0 0 0 0 0 0 0 0 0 0 0 0 0 0 0\n",
      "  0 0 0 0 0 0 0 0 0 0 0 0 0 0]\n",
      " [0 0 0 0 0 0 0 0 0 0 1 1 1 1 1 1 1 0 0 0 0 0 0 0 0 0 0 0 0 0 0 0 0 1 0 1\n",
      "  1 0 0 0 0 0 0 0 0 0 0 0 0 0]\n",
      " [0 0 0 0 0 0 0 0 0 0 0 1 0 0 1 0 1 0 0 0 0 0 0 0 0 0 0 0 0 0 0 0 1 1 1 1\n",
      "  1 0 0 0 0 0 0 0 0 0 0 0 0 0]\n",
      " [0 0 0 0 0 0 0 0 0 0 0 1 1 1 1 0 1 1 0 0 0 0 0 0 0 0 0 0 0 0 1 1 0 0 1 0\n",
      "  1 0 0 0 0 0 0 0 0 0 0 0 0 0]\n",
      " [0 0 0 0 0 0 0 0 0 0 0 0 1 0 0 0 1 1 0 0 0 0 0 0 0 0 0 0 0 0 1 1 1 0 0 1\n",
      "  0 0 0 0 0 0 0 0 0 0 0 0 0 0]\n",
      " [0 0 0 0 0 0 0 0 0 0 0 0 0 1 0 0 1 1 0 0 0 0 0 0 0 0 0 0 0 0 0 1 0 0 0 0\n",
      "  1 1 1 1 1 0 0 0 0 0 0 0 0 0]\n",
      " [0 0 0 0 0 0 0 0 0 0 0 0 0 0 0 0 1 1 0 0 0 0 0 0 0 0 0 0 0 0 0 0 0 0 0 1\n",
      "  1 0 0 0 0 0 0 1 1 1 0 0 0 0]\n",
      " [0 0 1 0 0 0 0 0 0 0 0 0 0 0 0 0 1 1 0 0 0 0 0 0 0 0 0 0 0 0 0 0 1 1 1 1\n",
      "  0 1 0 0 0 0 0 0 0 0 0 0 0 0]\n",
      " [0 1 0 1 0 0 0 0 0 0 0 1 0 0 0 1 0 0 0 0 0 0 0 0 0 0 0 0 0 0 0 0 1 1 0 0\n",
      "  0 1 1 0 0 0 0 0 0 0 0 0 0 0]\n",
      " [0 1 1 0 0 0 0 0 0 0 1 0 1 1 0 0 0 0 0 0 0 0 0 0 0 0 0 0 0 0 0 0 0 1 0 1\n",
      "  0 1 1 0 0 0 0 0 0 0 0 0 0 0]\n",
      " [0 0 0 0 0 0 0 0 0 1 1 0 1 1 0 0 0 0 0 0 0 0 0 0 0 0 0 0 0 0 0 0 0 0 0 0\n",
      "  0 1 1 0 0 0 0 0 0 0 0 0 0 0]\n",
      " [0 0 0 0 0 0 0 0 0 0 0 0 0 0 0 0 0 0 0 0 0 0 0 0 0 0 0 0 0 0 0 0 0 0 0 0\n",
      "  0 0 0 0 0 0 0 0 0 0 0 0 0 0]\n",
      " [0 0 0 0 0 0 0 0 0 0 0 0 0 0 0 0 0 0 0 0 0 0 0 0 0 0 0 0 0 0 0 0 0 0 0 0\n",
      "  0 0 1 0 0 0 0 0 0 0 0 0 0 0]\n",
      " [0 0 0 0 0 0 0 0 0 0 0 0 0 0 0 0 0 0 0 0 0 0 0 0 0 0 0 0 0 0 0 0 0 0 0 0\n",
      "  0 0 0 1 0 0 0 0 0 0 0 0 0 0]\n",
      " [0 0 0 0 0 0 0 0 0 0 0 0 1 0 0 0 0 1 0 0 0 0 0 0 0 0 0 0 0 0 0 0 0 0 0 0\n",
      "  0 0 0 0 0 0 0 0 0 0 0 0 0 0]\n",
      " [0 0 0 0 0 0 0 0 0 0 0 0 1 1 1 1 1 1 1 0 0 0 0 0 0 0 0 0 0 0 0 0 0 0 1 1\n",
      "  0 0 1 0 0 1 0 0 0 0 0 0 0 0]\n",
      " [0 0 0 0 0 0 0 0 0 0 0 1 0 0 1 1 0 0 0 0 0 0 0 0 0 0 0 0 0 0 0 0 0 0 0 0\n",
      "  0 0 0 0 0 1 0 0 0 0 0 0 0 0]\n",
      " [0 0 0 0 0 0 0 0 0 0 0 0 0 1 0 0 0 1 0 0 0 0 0 0 0 0 0 0 0 0 1 1 0 0 0 0\n",
      "  0 0 0 1 0 1 0 0 0 0 0 0 0 0]\n",
      " [0 0 0 0 0 0 1 1 0 0 0 0 0 0 1 1 1 0 0 0 0 0 0 0 0 0 0 0 0 0 1 1 0 0 0 0\n",
      "  0 0 0 1 1 0 0 0 0 0 0 0 0 0]\n",
      " [0 0 0 0 0 1 0 0 1 0 0 0 0 0 1 1 1 0 0 0 0 0 0 0 0 0 0 0 0 0 0 0 0 0 0 0\n",
      "  0 0 0 0 0 0 0 0 0 0 0 0 0 0]\n",
      " [0 0 0 0 0 0 1 1 0 0 0 0 0 0 0 0 0 0 0 0 0 0 0 0 0 0 0 0 0 0 0 0 0 0 0 0\n",
      "  0 0 0 0 0 0 0 0 0 0 0 0 0 0]\n",
      " [0 0 0 0 0 0 0 0 0 0 0 0 0 0 0 0 0 0 0 0 0 0 0 0 0 0 0 0 0 0 0 0 0 0 0 0\n",
      "  0 0 0 0 0 0 0 0 0 0 0 0 0 0]\n",
      " [0 0 0 0 0 0 0 0 0 0 0 0 0 0 0 0 0 0 0 0 0 0 0 0 0 0 0 0 0 0 0 0 0 0 0 0\n",
      "  0 0 0 0 0 0 0 0 0 0 0 0 0 0]\n",
      " [0 0 0 0 0 0 0 0 0 0 0 0 0 0 0 0 0 0 0 0 0 0 0 0 0 0 0 0 0 0 0 0 0 0 0 0\n",
      "  0 0 0 0 0 0 0 0 0 0 0 0 0 0]\n",
      " [0 0 0 0 0 0 0 0 0 0 0 0 0 0 0 0 0 0 0 1 1 1 0 0 0 0 0 0 0 0 0 0 0 0 0 0\n",
      "  0 0 0 0 0 0 0 0 0 0 0 0 0 0]\n",
      " [0 0 0 0 0 0 0 0 0 0 0 0 0 0 0 0 0 0 0 0 0 0 0 0 0 0 0 0 0 0 0 0 0 0 0 0\n",
      "  0 0 0 0 0 0 0 0 0 0 0 0 0 0]\n",
      " [0 0 1 0 0 0 0 0 0 0 0 0 0 0 0 0 0 0 0 0 0 0 0 0 0 0 0 0 0 0 0 0 0 0 0 0\n",
      "  0 0 0 0 0 0 0 0 0 0 0 0 0 0]\n",
      " [0 1 0 1 0 0 0 0 0 0 0 0 0 0 0 0 0 0 0 0 0 0 0 0 0 0 0 0 0 0 0 0 0 0 0 0\n",
      "  0 0 0 0 0 0 0 0 0 0 0 0 0 0]\n",
      " [0 1 0 1 0 0 0 0 0 0 0 0 0 0 0 0 0 0 0 0 0 0 0 0 0 0 0 0 0 0 0 0 0 0 0 0\n",
      "  0 0 0 0 0 0 0 0 0 0 0 0 0 0]\n",
      " [0 0 1 0 0 0 0 0 0 0 0 0 0 0 0 0 0 0 0 0 0 0 0 0 0 0 0 0 0 0 0 0 0 0 0 0\n",
      "  0 0 0 0 0 0 0 0 0 1 1 1 0 0]\n",
      " [0 0 0 0 0 0 0 0 0 0 0 0 0 0 0 0 0 0 0 0 0 0 0 0 0 0 0 0 0 0 0 0 0 0 0 0\n",
      "  0 0 1 0 0 0 0 0 0 0 0 0 0 0]\n",
      " [0 0 0 0 0 0 0 0 0 0 0 0 0 0 0 0 0 0 0 0 0 0 0 0 0 0 0 0 0 0 0 0 0 0 0 0\n",
      "  0 1 0 1 0 0 0 0 0 0 0 0 0 0]\n",
      " [0 0 0 0 0 0 0 0 0 0 0 0 0 0 0 0 0 0 0 0 0 0 0 0 0 0 0 0 0 0 0 0 0 0 0 0\n",
      "  0 1 0 1 0 0 0 0 0 0 0 0 0 0]\n",
      " [0 0 0 0 0 0 0 0 0 0 0 0 0 0 0 0 0 0 0 0 0 0 0 0 0 0 0 0 0 0 0 0 0 0 0 0\n",
      "  0 0 1 0 0 0 0 0 0 0 0 0 0 0]\n",
      " [0 0 0 0 0 0 0 0 0 0 0 0 0 0 0 0 0 0 0 0 0 0 0 0 0 1 1 0 0 0 0 0 0 0 0 0\n",
      "  0 0 0 0 0 0 0 0 0 0 0 0 0 0]\n",
      " [0 0 0 0 0 0 0 0 0 0 0 0 0 0 0 0 0 0 0 0 0 0 0 0 0 1 1 0 0 0 0 0 0 0 0 0\n",
      "  0 0 0 0 0 0 0 0 0 0 0 0 0 0]\n",
      " [0 0 0 0 0 0 0 0 0 0 0 0 0 0 0 0 0 0 0 0 0 0 0 0 0 0 0 0 0 0 0 0 0 0 0 0\n",
      "  0 0 0 0 0 0 0 0 0 0 0 0 0 0]]\n"
     ]
    }
   ],
   "source": [
    "\n",
    "# Author: Nicolas Rougier\n",
    "\n",
    "def iterate(Z):\n",
    "    # Count neighbours\n",
    "    N = (Z[0:-2,0:-2] + Z[0:-2,1:-1] + Z[0:-2,2:] +\n",
    "         Z[1:-1,0:-2]                + Z[1:-1,2:] +\n",
    "         Z[2:  ,0:-2] + Z[2:  ,1:-1] + Z[2:  ,2:])\n",
    "\n",
    "    # Apply rules\n",
    "    birth = (N==3) & (Z[1:-1,1:-1]==0)\n",
    "    survive = ((N==2) | (N==3)) & (Z[1:-1,1:-1]==1)\n",
    "    Z[...] = 0\n",
    "    Z[1:-1,1:-1][birth | survive] = 1\n",
    "    return Z\n",
    "\n",
    "Z = np.random.randint(0,2,(50,50))\n",
    "for i in range(100): Z = iterate(Z)\n",
    "print(Z)\n"
   ]
  },
  {
   "cell_type": "markdown",
   "id": "64ccad1b",
   "metadata": {},
   "source": [
    "#### 89. How to get the n largest values of an array (★★★)"
   ]
  },
  {
   "cell_type": "code",
   "execution_count": 170,
   "id": "f3ff005c",
   "metadata": {},
   "outputs": [
    {
     "name": "stdout",
     "output_type": "stream",
     "text": [
      "[9995 9996 9997 9998 9999]\n",
      "[9998 9999 9997 9996 9995]\n"
     ]
    }
   ],
   "source": [
    "\n",
    "Z = np.arange(10000)\n",
    "np.random.shuffle(Z)\n",
    "n = 5\n",
    "\n",
    "# Slow\n",
    "print (Z[np.argsort(Z)[-n:]])\n",
    "\n",
    "# Fast\n",
    "print (Z[np.argpartition(-Z,n)[:n]])\n"
   ]
  },
  {
   "cell_type": "markdown",
   "id": "140d00e1",
   "metadata": {},
   "source": [
    "#### 90. Given an arbitrary number of vectors, build the cartesian product (every combinations of every item) (★★★)"
   ]
  },
  {
   "cell_type": "code",
   "execution_count": 171,
   "id": "7b1d0cc2",
   "metadata": {},
   "outputs": [
    {
     "name": "stdout",
     "output_type": "stream",
     "text": [
      "[[1 4 6]\n",
      " [1 4 7]\n",
      " [1 5 6]\n",
      " [1 5 7]\n",
      " [2 4 6]\n",
      " [2 4 7]\n",
      " [2 5 6]\n",
      " [2 5 7]\n",
      " [3 4 6]\n",
      " [3 4 7]\n",
      " [3 5 6]\n",
      " [3 5 7]]\n"
     ]
    }
   ],
   "source": [
    "\n",
    "# Author: Stefan Van der Walt\n",
    "\n",
    "def cartesian(arrays):\n",
    "    arrays = [np.asarray(a) for a in arrays]\n",
    "    shape = (len(x) for x in arrays)\n",
    "\n",
    "    ix = np.indices(shape, dtype=int)\n",
    "    ix = ix.reshape(len(arrays), -1).T\n",
    "\n",
    "    for n, arr in enumerate(arrays):\n",
    "        ix[:, n] = arrays[n][ix[:, n]]\n",
    "\n",
    "    return ix\n",
    "\n",
    "print (cartesian(([1, 2, 3], [4, 5], [6, 7])))\n"
   ]
  },
  {
   "cell_type": "markdown",
   "id": "93a93534",
   "metadata": {},
   "source": [
    "#### 91. How to create a record array from a regular array? (★★★)"
   ]
  },
  {
   "cell_type": "code",
   "execution_count": 172,
   "id": "193d0406",
   "metadata": {},
   "outputs": [
    {
     "name": "stdout",
     "output_type": "stream",
     "text": [
      "[(b'Hello', 2.5, 3) (b'World', 3.6, 2)]\n"
     ]
    }
   ],
   "source": [
    "\n",
    "Z = np.array([(\"Hello\", 2.5, 3),\n",
    "              (\"World\", 3.6, 2)])\n",
    "R = np.core.records.fromarrays(Z.T,\n",
    "                               names='col1, col2, col3',\n",
    "                               formats = 'S8, f8, i8')\n",
    "print(R)\n"
   ]
  },
  {
   "cell_type": "markdown",
   "id": "07450ada",
   "metadata": {},
   "source": [
    "#### 92. Consider a large vector Z, compute Z to the power of 3 using 3 different methods (★★★)"
   ]
  },
  {
   "cell_type": "code",
   "execution_count": 173,
   "id": "e220bcba",
   "metadata": {},
   "outputs": [
    {
     "name": "stdout",
     "output_type": "stream",
     "text": [
      "3.88 s ± 571 ms per loop (mean ± std. dev. of 7 runs, 1 loop each)\n",
      "1.15 s ± 51.5 ms per loop (mean ± std. dev. of 7 runs, 1 loop each)\n",
      "678 ms ± 8.37 ms per loop (mean ± std. dev. of 7 runs, 1 loop each)\n"
     ]
    }
   ],
   "source": [
    "\n",
    "# Author: Ryan G.\n",
    "\n",
    "x = np.random.rand(int(5e7))\n",
    "\n",
    "%timeit np.power(x,3)\n",
    "%timeit x*x*x\n",
    "%timeit np.einsum('i,i,i->i',x,x,x)\n"
   ]
  },
  {
   "cell_type": "markdown",
   "id": "1f54e7ac",
   "metadata": {},
   "source": [
    "#### 93. Consider two arrays A and B of shape (8,3) and (2,2). How to find rows of A that contain elements of each row of B regardless of the order of the elements in B? (★★★)"
   ]
  },
  {
   "cell_type": "code",
   "execution_count": 174,
   "id": "d81652c7",
   "metadata": {},
   "outputs": [
    {
     "name": "stdout",
     "output_type": "stream",
     "text": [
      "[1 7]\n"
     ]
    }
   ],
   "source": [
    "\n",
    "# Author: Gabe Schwartz\n",
    "\n",
    "A = np.random.randint(0,5,(8,3))\n",
    "B = np.random.randint(0,5,(2,2))\n",
    "\n",
    "C = (A[..., np.newaxis, np.newaxis] == B)\n",
    "rows = np.where(C.any((3,1)).all(1))[0]\n",
    "print(rows)\n"
   ]
  },
  {
   "cell_type": "markdown",
   "id": "a0858a76",
   "metadata": {},
   "source": [
    "#### 94. Considering a 10x3 matrix, extract rows with unequal values (e.g. [2,2,3]) (★★★)"
   ]
  },
  {
   "cell_type": "code",
   "execution_count": 176,
   "id": "fad29d33",
   "metadata": {},
   "outputs": [
    {
     "name": "stdout",
     "output_type": "stream",
     "text": [
      "[[2 3 1]\n",
      " [1 2 0]\n",
      " [0 0 4]\n",
      " [1 3 0]\n",
      " [2 4 2]\n",
      " [1 2 0]\n",
      " [4 3 3]\n",
      " [0 4 2]\n",
      " [0 4 3]\n",
      " [0 3 4]]\n",
      "[[2 3 1]\n",
      " [1 2 0]\n",
      " [0 0 4]\n",
      " [1 3 0]\n",
      " [2 4 2]\n",
      " [1 2 0]\n",
      " [4 3 3]\n",
      " [0 4 2]\n",
      " [0 4 3]\n",
      " [0 3 4]]\n"
     ]
    }
   ],
   "source": [
    "# Author: Robert Kern\n",
    "\n",
    "Z = np.random.randint(0,5,(10,3))\n",
    "print(Z)\n",
    "# solution for arrays of all dtypes (including string arrays and record arrays)\n",
    "E = np.all(Z[:,1:] == Z[:,:-1], axis=1)\n",
    "U = Z[~E]\n",
    "print(U)"
   ]
  },
  {
   "cell_type": "code",
   "execution_count": 177,
   "id": "fd10823e",
   "metadata": {},
   "outputs": [
    {
     "name": "stdout",
     "output_type": "stream",
     "text": [
      "[[2 3 1]\n",
      " [1 2 0]\n",
      " [0 0 4]\n",
      " [1 3 0]\n",
      " [2 4 2]\n",
      " [1 2 0]\n",
      " [4 3 3]\n",
      " [0 4 2]\n",
      " [0 4 3]\n",
      " [0 3 4]]\n"
     ]
    }
   ],
   "source": [
    "# soluiton for numerical arrays only, will work for any number of columns in Z\n",
    "U = Z[Z.max(axis=1) != Z.min(axis=1),:]\n",
    "print(U)"
   ]
  },
  {
   "cell_type": "markdown",
   "id": "512e6e13",
   "metadata": {},
   "source": [
    "#### 95. Convert a vector of ints into a matrix binary representation (★★★)"
   ]
  },
  {
   "cell_type": "code",
   "execution_count": 179,
   "id": "3a039f2d",
   "metadata": {},
   "outputs": [
    {
     "name": "stdout",
     "output_type": "stream",
     "text": [
      "[[0 0 0 0 0 0 0 0]\n",
      " [0 0 0 0 0 0 0 1]\n",
      " [0 0 0 0 0 0 1 0]\n",
      " [0 0 0 0 0 0 1 1]\n",
      " [0 0 0 0 1 1 1 1]\n",
      " [0 0 0 1 0 0 0 0]\n",
      " [0 0 1 0 0 0 0 0]\n",
      " [0 1 0 0 0 0 0 0]\n",
      " [1 0 0 0 0 0 0 0]]\n"
     ]
    }
   ],
   "source": [
    "# Author: Warren Weckesser\n",
    "\n",
    "I = np.array([0, 1, 2, 3, 15, 16, 32, 64, 128])\n",
    "B = ((I.reshape(-1,1) & (2**np.arange(8))) != 0).astype(int)\n",
    "print(B[:,::-1])"
   ]
  },
  {
   "cell_type": "code",
   "execution_count": 180,
   "id": "bb40c8c8",
   "metadata": {},
   "outputs": [
    {
     "name": "stdout",
     "output_type": "stream",
     "text": [
      "[[0 0 0 0 0 0 0 0]\n",
      " [0 0 0 0 0 0 0 1]\n",
      " [0 0 0 0 0 0 1 0]\n",
      " [0 0 0 0 0 0 1 1]\n",
      " [0 0 0 0 1 1 1 1]\n",
      " [0 0 0 1 0 0 0 0]\n",
      " [0 0 1 0 0 0 0 0]\n",
      " [0 1 0 0 0 0 0 0]\n",
      " [1 0 0 0 0 0 0 0]]\n"
     ]
    }
   ],
   "source": [
    "# Author: Daniel T. McDonald\n",
    "\n",
    "I = np.array([0, 1, 2, 3, 15, 16, 32, 64, 128], dtype=np.uint8)\n",
    "print(np.unpackbits(I[:, np.newaxis], axis=1))"
   ]
  },
  {
   "cell_type": "markdown",
   "id": "e14b4cd4",
   "metadata": {},
   "source": [
    "#### 96. Given a two dimensional array, how to extract unique rows? (★★★)"
   ]
  },
  {
   "cell_type": "code",
   "execution_count": 182,
   "id": "e6af5aa4",
   "metadata": {},
   "outputs": [
    {
     "name": "stdout",
     "output_type": "stream",
     "text": [
      "[[0 0 0]\n",
      " [0 1 1]\n",
      " [1 0 1]\n",
      " [1 1 0]\n",
      " [1 1 1]]\n"
     ]
    }
   ],
   "source": [
    "# Author: Jaime Fernández del Río\n",
    "\n",
    "Z = np.random.randint(0,2,(6,3))\n",
    "T = np.ascontiguousarray(Z).view(np.dtype((np.void, Z.dtype.itemsize * Z.shape[1])))\n",
    "_, idx = np.unique(T, return_index=True)\n",
    "uZ = Z[idx]\n",
    "print(uZ)"
   ]
  },
  {
   "cell_type": "code",
   "execution_count": 183,
   "id": "29121c69",
   "metadata": {},
   "outputs": [
    {
     "name": "stdout",
     "output_type": "stream",
     "text": [
      "[[0 0 0]\n",
      " [0 1 1]\n",
      " [1 0 1]\n",
      " [1 1 0]\n",
      " [1 1 1]]\n"
     ]
    }
   ],
   "source": [
    "# Author: Andreas Kouzelis\n",
    "# NumPy >= 1.13\n",
    "uZ = np.unique(Z, axis=0)\n",
    "print(uZ)"
   ]
  },
  {
   "cell_type": "markdown",
   "id": "0067574d",
   "metadata": {},
   "source": [
    "#### 97. Considering 2 vectors A & B, write the einsum equivalent of inner, outer, sum, and mul function (★★★)"
   ]
  },
  {
   "cell_type": "code",
   "execution_count": 184,
   "id": "0af3f0ce",
   "metadata": {},
   "outputs": [
    {
     "data": {
      "text/plain": [
       "array([[0.79869181, 0.0082726 , 0.77439402, 0.09002101, 0.83427304,\n",
       "        0.05707006, 0.56797348, 0.31358369, 0.13001514, 0.20644494],\n",
       "       [0.52160825, 0.00540265, 0.50573989, 0.05879076, 0.54484557,\n",
       "        0.03727122, 0.37093112, 0.20479468, 0.08491006, 0.1348247 ],\n",
       "       [0.77760163, 0.00805415, 0.75394543, 0.08764392, 0.8122433 ,\n",
       "        0.05556308, 0.55297562, 0.30530322, 0.12658198, 0.20099357],\n",
       "       [0.66848239, 0.00692393, 0.64814582, 0.07534503, 0.69826286,\n",
       "        0.04776602, 0.47537769, 0.26246065, 0.10881899, 0.17278856],\n",
       "       [0.64373628, 0.00666762, 0.62415254, 0.07255588, 0.67241433,\n",
       "        0.04599781, 0.45778   , 0.25274479, 0.10479069, 0.16639221],\n",
       "       [0.20092394, 0.00208111, 0.19481144, 0.02264625, 0.20987498,\n",
       "        0.0143569 , 0.14288299, 0.07888709, 0.03270743, 0.05193459],\n",
       "       [0.68768073, 0.00712278, 0.66676011, 0.07750888, 0.71831648,\n",
       "        0.04913783, 0.4890302 , 0.26999833, 0.11194419, 0.17775092],\n",
       "       [0.8631684 , 0.00894042, 0.8369091 , 0.0972882 , 0.90162202,\n",
       "        0.0616772 , 0.6138247 , 0.33889859, 0.14051097, 0.22311078],\n",
       "       [0.42976582, 0.00445138, 0.41669149, 0.04843915, 0.44891162,\n",
       "        0.03070867, 0.30561925, 0.16873536, 0.06995948, 0.11108537],\n",
       "       [0.44540164, 0.00461333, 0.43185164, 0.05020147, 0.46524401,\n",
       "        0.03182592, 0.31673834, 0.17487432, 0.07250476, 0.1151269 ]])"
      ]
     },
     "execution_count": 184,
     "metadata": {},
     "output_type": "execute_result"
    }
   ],
   "source": [
    "\n",
    "# Author: Alex Riley\n",
    "# Make sure to read: http://ajcr.net/Basic-guide-to-einsum/\n",
    "\n",
    "A = np.random.uniform(0,1,10)\n",
    "B = np.random.uniform(0,1,10)\n",
    "\n",
    "np.einsum('i->', A)       # np.sum(A)\n",
    "np.einsum('i,i->i', A, B) # A * B\n",
    "np.einsum('i,i', A, B)    # np.inner(A, B)\n",
    "np.einsum('i,j->ij', A, B)    # np.outer(A, B)\n"
   ]
  },
  {
   "cell_type": "markdown",
   "id": "e91c03b9",
   "metadata": {},
   "source": [
    "#### 98. Considering a path described by two vectors (X,Y), how to sample it using equidistant samples (★★★)?"
   ]
  },
  {
   "cell_type": "code",
   "execution_count": 185,
   "id": "7cc57fed",
   "metadata": {},
   "outputs": [],
   "source": [
    "\n",
    "# Author: Bas Swinckels\n",
    "\n",
    "phi = np.arange(0, 10*np.pi, 0.1)\n",
    "a = 1\n",
    "x = a*phi*np.cos(phi)\n",
    "y = a*phi*np.sin(phi)\n",
    "\n",
    "dr = (np.diff(x)**2 + np.diff(y)**2)**.5 # segment lengths\n",
    "r = np.zeros_like(x)\n",
    "r[1:] = np.cumsum(dr)                # integrate path\n",
    "r_int = np.linspace(0, r.max(), 200) # regular spaced path\n",
    "x_int = np.interp(r_int, r, x)       # integrate path\n",
    "y_int = np.interp(r_int, r, y)\n"
   ]
  },
  {
   "cell_type": "markdown",
   "id": "391cd274",
   "metadata": {},
   "source": [
    "#### 99. Given an integer n and a 2D array X, select from X the rows which can be interpreted as draws from a multinomial distribution with n degrees, i.e., the rows which only contain integers and which sum to n. (★★★)"
   ]
  },
  {
   "cell_type": "code",
   "execution_count": 186,
   "id": "c3935330",
   "metadata": {},
   "outputs": [
    {
     "name": "stdout",
     "output_type": "stream",
     "text": [
      "[[2. 0. 1. 1.]]\n"
     ]
    }
   ],
   "source": [
    "\n",
    "# Author: Evgeni Burovski\n",
    "\n",
    "X = np.asarray([[1.0, 0.0, 3.0, 8.0],\n",
    "                [2.0, 0.0, 1.0, 1.0],\n",
    "                [1.5, 2.5, 1.0, 0.0]])\n",
    "n = 4\n",
    "M = np.logical_and.reduce(np.mod(X, 1) == 0, axis=-1)\n",
    "M &= (X.sum(axis=-1) == n)\n",
    "print(X[M])\n"
   ]
  },
  {
   "cell_type": "markdown",
   "id": "a03ee04e",
   "metadata": {},
   "source": [
    "#### 100. Compute bootstrapped 95% confidence intervals for the mean of a 1D array X (i.e., resample the elements of an array with replacement N times, compute the mean of each sample, and then compute percentiles over the means). (★★★)"
   ]
  },
  {
   "cell_type": "code",
   "execution_count": 187,
   "id": "27b29670",
   "metadata": {},
   "outputs": [
    {
     "name": "stdout",
     "output_type": "stream",
     "text": [
      "[-0.1084268   0.29407967]\n"
     ]
    }
   ],
   "source": [
    "\n",
    "# Author: Jessica B. Hamrick\n",
    "\n",
    "X = np.random.randn(100) # random 1D array\n",
    "N = 1000 # number of bootstrap samples\n",
    "idx = np.random.randint(0, X.size, (N, X.size))\n",
    "means = X[idx].mean(axis=1)\n",
    "confint = np.percentile(means, [2.5, 97.5])\n",
    "print(confint)\n"
   ]
  }
 ],
 "metadata": {
  "kernelspec": {
   "display_name": "Python 3 (ipykernel)",
   "language": "python",
   "name": "python3"
  },
  "language_info": {
   "codemirror_mode": {
    "name": "ipython",
    "version": 3
   },
   "file_extension": ".py",
   "mimetype": "text/x-python",
   "name": "python",
   "nbconvert_exporter": "python",
   "pygments_lexer": "ipython3",
   "version": "3.9.12"
  }
 },
 "nbformat": 4,
 "nbformat_minor": 5
}
